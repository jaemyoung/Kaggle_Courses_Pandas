{
  "nbformat": 4,
  "nbformat_minor": 0,
  "metadata": {
    "kernelspec": {
      "language": "python",
      "display_name": "Python 3",
      "name": "python3"
    },
    "language_info": {
      "pygments_lexer": "ipython3",
      "nbconvert_exporter": "python",
      "version": "3.6.4",
      "file_extension": ".py",
      "codemirror_mode": {
        "name": "ipython",
        "version": 3
      },
      "name": "python",
      "mimetype": "text/x-python"
    },
    "colab": {
      "name": "exercise-indexing-selecting-assigning.ipynb",
      "provenance": [],
      "include_colab_link": true
    }
  },
  "cells": [
    {
      "cell_type": "markdown",
      "metadata": {
        "id": "view-in-github",
        "colab_type": "text"
      },
      "source": [
        "<a href=\"https://colab.research.google.com/github/jaemyoung/Kaggle_Courses_Pandas/blob/main/exercise_indexing_selecting_assigning.ipynb\" target=\"_parent\"><img src=\"https://colab.research.google.com/assets/colab-badge.svg\" alt=\"Open In Colab\"/></a>"
      ]
    },
    {
      "cell_type": "markdown",
      "metadata": {
        "id": "K4LTS7T9ToBd"
      },
      "source": [
        "**This notebook is an exercise in the [Pandas](https://www.kaggle.com/learn/pandas) course.  You can reference the tutorial at [this link](https://www.kaggle.com/residentmario/indexing-selecting-assigning).**\n",
        "\n",
        "---\n"
      ]
    },
    {
      "cell_type": "markdown",
      "metadata": {
        "id": "QbOHJgVcToBi"
      },
      "source": [
        "# Introduction\n",
        "\n",
        "In this set of exercises we will work with the [Wine Reviews dataset](https://www.kaggle.com/zynicide/wine-reviews). "
      ]
    },
    {
      "cell_type": "markdown",
      "metadata": {
        "id": "DOfzKh2qToBl"
      },
      "source": [
        "Run the following cell to load your data and some utility functions (including code to check your answers)."
      ]
    },
    {
      "cell_type": "code",
      "metadata": {
        "execution": {
          "iopub.status.busy": "2021-08-20T04:51:08.163815Z",
          "iopub.execute_input": "2021-08-20T04:51:08.164426Z",
          "iopub.status.idle": "2021-08-20T04:51:11.445099Z",
          "shell.execute_reply.started": "2021-08-20T04:51:08.164336Z",
          "shell.execute_reply": "2021-08-20T04:51:11.444134Z"
        },
        "trusted": true,
        "id": "y4p2CJQKToBn"
      },
      "source": [
        "import pandas as pd\n",
        "\n",
        "reviews = pd.read_csv(\"../input/wine-reviews/winemag-data-130k-v2.csv\", index_col=0)\n",
        "pd.set_option(\"display.max_rows\", 5)\n",
        "\n",
        "from learntools.core import binder; binder.bind(globals())\n",
        "from learntools.pandas.indexing_selecting_and_assigning import *\n",
        "print(\"Setup complete.\")"
      ],
      "execution_count": null,
      "outputs": []
    },
    {
      "cell_type": "markdown",
      "metadata": {
        "id": "GF2OyUjSToBo"
      },
      "source": [
        "Look at an overview of your data by running the following line."
      ]
    },
    {
      "cell_type": "code",
      "metadata": {
        "execution": {
          "iopub.status.busy": "2021-08-20T04:52:33.497311Z",
          "iopub.execute_input": "2021-08-20T04:52:33.497697Z",
          "iopub.status.idle": "2021-08-20T04:52:33.529364Z",
          "shell.execute_reply.started": "2021-08-20T04:52:33.497666Z",
          "shell.execute_reply": "2021-08-20T04:52:33.528356Z"
        },
        "trusted": true,
        "id": "XKgtATK1ToBq"
      },
      "source": [
        "reviews.head()"
      ],
      "execution_count": null,
      "outputs": []
    },
    {
      "cell_type": "markdown",
      "metadata": {
        "id": "c6O_rp7PToBr"
      },
      "source": [
        "# Exercises"
      ]
    },
    {
      "cell_type": "markdown",
      "metadata": {
        "id": "SGsI7wcLToBs"
      },
      "source": [
        "## 1.\n",
        "\n",
        "Select the `description` column from `reviews` and assign the result to the variable `desc`."
      ]
    },
    {
      "cell_type": "code",
      "metadata": {
        "execution": {
          "iopub.status.busy": "2021-08-20T04:53:25.197645Z",
          "iopub.execute_input": "2021-08-20T04:53:25.198000Z",
          "iopub.status.idle": "2021-08-20T04:53:25.206915Z",
          "shell.execute_reply.started": "2021-08-20T04:53:25.197971Z",
          "shell.execute_reply": "2021-08-20T04:53:25.205987Z"
        },
        "trusted": true,
        "id": "lNzoLM3RToBt"
      },
      "source": [
        "# Your code here\n",
        "desc =reviews['description']\n",
        "\n",
        "# Check your answer\n",
        "q1.check()"
      ],
      "execution_count": null,
      "outputs": []
    },
    {
      "cell_type": "markdown",
      "metadata": {
        "id": "X-_JKPhoToBw"
      },
      "source": [
        "Follow-up question: what type of object is `desc`? If you're not sure, you can check by calling Python's `type` function: `type(desc)`."
      ]
    },
    {
      "cell_type": "code",
      "metadata": {
        "execution": {
          "iopub.status.busy": "2021-08-20T04:53:30.422642Z",
          "iopub.execute_input": "2021-08-20T04:53:30.423022Z",
          "iopub.status.idle": "2021-08-20T04:53:30.431700Z",
          "shell.execute_reply.started": "2021-08-20T04:53:30.422988Z",
          "shell.execute_reply": "2021-08-20T04:53:30.430489Z"
        },
        "trusted": true,
        "id": "o0Rv-qxEToBx"
      },
      "source": [
        "#q1.hint()\n",
        "q1.solution()"
      ],
      "execution_count": null,
      "outputs": []
    },
    {
      "cell_type": "markdown",
      "metadata": {
        "id": "325E1i2-ToBx"
      },
      "source": [
        "## 2.\n",
        "\n",
        "Select the first value from the description column of `reviews`, assigning it to variable `first_description`."
      ]
    },
    {
      "cell_type": "code",
      "metadata": {
        "execution": {
          "iopub.status.busy": "2021-08-20T04:54:09.161181Z",
          "iopub.execute_input": "2021-08-20T04:54:09.161576Z",
          "iopub.status.idle": "2021-08-20T04:54:09.180017Z",
          "shell.execute_reply.started": "2021-08-20T04:54:09.161541Z",
          "shell.execute_reply": "2021-08-20T04:54:09.178878Z"
        },
        "trusted": true,
        "id": "oOLE2xajToBz"
      },
      "source": [
        "first_description = reviews['description'][0]\n",
        "\n",
        "# Check your answer\n",
        "q2.check()\n",
        "first_description"
      ],
      "execution_count": null,
      "outputs": []
    },
    {
      "cell_type": "code",
      "metadata": {
        "id": "YXpLQrROToB0"
      },
      "source": [
        "#q2.hint()\n",
        "#q2.solution()"
      ],
      "execution_count": null,
      "outputs": []
    },
    {
      "cell_type": "markdown",
      "metadata": {
        "id": "MEsnObqqToB1"
      },
      "source": [
        "## 3. \n",
        "\n",
        "Select the first row of data (the first record) from `reviews`, assigning it to the variable `first_row`."
      ]
    },
    {
      "cell_type": "code",
      "metadata": {
        "execution": {
          "iopub.status.busy": "2021-08-20T04:54:51.660743Z",
          "iopub.execute_input": "2021-08-20T04:54:51.661103Z",
          "iopub.status.idle": "2021-08-20T04:54:51.674078Z",
          "shell.execute_reply.started": "2021-08-20T04:54:51.661074Z",
          "shell.execute_reply": "2021-08-20T04:54:51.672809Z"
        },
        "trusted": true,
        "id": "Ip0vy-5wToB2"
      },
      "source": [
        "first_row = reviews.iloc[0]\n",
        "\n",
        "# Check your answer\n",
        "q3.check()\n",
        "first_row"
      ],
      "execution_count": null,
      "outputs": []
    },
    {
      "cell_type": "code",
      "metadata": {
        "id": "7T0NDF6OToB2"
      },
      "source": [
        "#q3.hint()\n",
        "#q3.solution()"
      ],
      "execution_count": null,
      "outputs": []
    },
    {
      "cell_type": "markdown",
      "metadata": {
        "id": "YDi2pym9ToB3"
      },
      "source": [
        "## 4.\n",
        "\n",
        "Select the first 10 values from the `description` column in `reviews`, assigning the result to variable `first_descriptions`.\n",
        "\n",
        "Hint: format your output as a pandas Series."
      ]
    },
    {
      "cell_type": "code",
      "metadata": {
        "execution": {
          "iopub.status.busy": "2021-08-20T04:59:33.784526Z",
          "iopub.execute_input": "2021-08-20T04:59:33.784891Z",
          "iopub.status.idle": "2021-08-20T04:59:33.793029Z",
          "shell.execute_reply.started": "2021-08-20T04:59:33.784860Z",
          "shell.execute_reply": "2021-08-20T04:59:33.791904Z"
        },
        "trusted": true,
        "id": "mnpItZgyToB3"
      },
      "source": [
        "first_descriptions = reviews[0:10]['description']\n",
        "print(first_descriptions)"
      ],
      "execution_count": null,
      "outputs": []
    },
    {
      "cell_type": "code",
      "metadata": {
        "execution": {
          "iopub.status.busy": "2021-08-20T04:59:44.641702Z",
          "iopub.execute_input": "2021-08-20T04:59:44.642040Z",
          "iopub.status.idle": "2021-08-20T04:59:44.656056Z",
          "shell.execute_reply.started": "2021-08-20T04:59:44.642010Z",
          "shell.execute_reply": "2021-08-20T04:59:44.654999Z"
        },
        "trusted": true,
        "id": "NItaFGKbToB3"
      },
      "source": [
        "first_descriptions = reviews[0:10]['description']\n",
        "\n",
        "# Check your answer\n",
        "q4.check()\n",
        "first_descriptions"
      ],
      "execution_count": null,
      "outputs": []
    },
    {
      "cell_type": "code",
      "metadata": {
        "id": "KOsq9PK3ToB4"
      },
      "source": [
        "#q4.hint()\n",
        "#q4.solution()"
      ],
      "execution_count": null,
      "outputs": []
    },
    {
      "cell_type": "markdown",
      "metadata": {
        "id": "N_ZHmxJFToB4"
      },
      "source": [
        "## 5.\n",
        "\n",
        "Select the records with index labels `1`, `2`, `3`, `5`, and `8`, assigning the result to the variable `sample_reviews`.\n",
        "\n",
        "In other words, generate the following DataFrame:\n",
        "\n",
        "![](https://i.imgur.com/sHZvI1O.png)"
      ]
    },
    {
      "cell_type": "code",
      "metadata": {
        "execution": {
          "iopub.status.busy": "2021-08-20T05:01:55.313308Z",
          "iopub.execute_input": "2021-08-20T05:01:55.313696Z",
          "iopub.status.idle": "2021-08-20T05:01:55.344744Z",
          "shell.execute_reply.started": "2021-08-20T05:01:55.313665Z",
          "shell.execute_reply": "2021-08-20T05:01:55.343955Z"
        },
        "trusted": true,
        "id": "NdiMT2hIToB4"
      },
      "source": [
        "sample_reviews = reviews.iloc[[1,2,3,5,8]] #list안에 list를 만듬\n",
        "\n",
        "# Check your answer\n",
        "q5.check()\n",
        "sample_reviews"
      ],
      "execution_count": null,
      "outputs": []
    },
    {
      "cell_type": "code",
      "metadata": {
        "id": "4iicueLgToB5"
      },
      "source": [
        "#q5.hint()\n",
        "#q5.solution()"
      ],
      "execution_count": null,
      "outputs": []
    },
    {
      "cell_type": "markdown",
      "metadata": {
        "id": "J_PNmNdeToB6"
      },
      "source": [
        "## 6.\n",
        "\n",
        "Create a variable `df` containing the `country`, `province`, `region_1`, and `region_2` columns of the records with the index labels `0`, `1`, `10`, and `100`. In other words, generate the following DataFrame:\n",
        "\n",
        "![](https://i.imgur.com/FUCGiKP.png)"
      ]
    },
    {
      "cell_type": "code",
      "metadata": {
        "execution": {
          "iopub.status.busy": "2021-08-20T05:04:07.615835Z",
          "iopub.execute_input": "2021-08-20T05:04:07.616219Z",
          "iopub.status.idle": "2021-08-20T05:04:07.636594Z",
          "shell.execute_reply.started": "2021-08-20T05:04:07.616188Z",
          "shell.execute_reply": "2021-08-20T05:04:07.635590Z"
        },
        "trusted": true,
        "id": "8bdOZQ5VToB7"
      },
      "source": [
        "df = reviews.iloc[[0,1,10,100]][['country','province','region_1','region_2']]\n",
        "\n",
        "# Check your answer\n",
        "q6.check()\n",
        "df"
      ],
      "execution_count": null,
      "outputs": []
    },
    {
      "cell_type": "code",
      "metadata": {
        "id": "B_P5xWclToB7"
      },
      "source": [
        "#q6.hint()\n",
        "#q6.solution()"
      ],
      "execution_count": null,
      "outputs": []
    },
    {
      "cell_type": "markdown",
      "metadata": {
        "id": "nNyzGoGGToB7"
      },
      "source": [
        "## 7.\n",
        "\n",
        "Create a variable `df` containing the `country` and `variety` columns of the first 100 records. \n",
        "\n",
        "Hint: you may use `loc` or `iloc`. When working on the answer this question and the several of the ones that follow, keep the following \"gotcha\" described in the tutorial:\n",
        "\n",
        "> `iloc` uses the Python stdlib indexing scheme, where the first element of the range is included and the last one excluded. \n",
        "`loc`, meanwhile, indexes inclusively. \n",
        "\n",
        "> This is particularly confusing when the DataFrame index is a simple numerical list, e.g. `0,...,1000`. In this case `df.iloc[0:1000]` will return 1000 entries, while `df.loc[0:1000]` return 1001 of them! To get 1000 elements using `loc`, you will need to go one lower and ask for `df.iloc[0:999]`. "
      ]
    },
    {
      "cell_type": "code",
      "metadata": {
        "execution": {
          "iopub.status.busy": "2021-08-20T05:05:34.266230Z",
          "iopub.execute_input": "2021-08-20T05:05:34.266608Z",
          "iopub.status.idle": "2021-08-20T05:05:34.288408Z",
          "shell.execute_reply.started": "2021-08-20T05:05:34.266577Z",
          "shell.execute_reply": "2021-08-20T05:05:34.287328Z"
        },
        "trusted": true,
        "id": "XUNfqKb5ToB7"
      },
      "source": [
        "df =  reviews.iloc[0:100][['country','variety']]\n",
        "\n",
        "# Check your answer\n",
        "q7.check()\n",
        "df"
      ],
      "execution_count": null,
      "outputs": []
    },
    {
      "cell_type": "code",
      "metadata": {
        "id": "IkRLdTaQToB8"
      },
      "source": [
        "#q7.hint()\n",
        "#q7.solution()"
      ],
      "execution_count": null,
      "outputs": []
    },
    {
      "cell_type": "markdown",
      "metadata": {
        "id": "TfhtAe2qToB8"
      },
      "source": [
        "## 8.\n",
        "\n",
        "Create a DataFrame `italian_wines` containing reviews of wines made in `Italy`. Hint: `reviews.country` equals what?"
      ]
    },
    {
      "cell_type": "code",
      "metadata": {
        "execution": {
          "iopub.status.busy": "2021-08-20T05:11:09.679549Z",
          "iopub.execute_input": "2021-08-20T05:11:09.679939Z",
          "iopub.status.idle": "2021-08-20T05:11:09.759547Z",
          "shell.execute_reply.started": "2021-08-20T05:11:09.679895Z",
          "shell.execute_reply": "2021-08-20T05:11:09.758555Z"
        },
        "trusted": true,
        "id": "kZXQE8yEToB8"
      },
      "source": [
        "italian_wines = reviews.loc[reviews.country =='Italy']\n",
        "print(italian_wines)"
      ],
      "execution_count": null,
      "outputs": []
    },
    {
      "cell_type": "code",
      "metadata": {
        "execution": {
          "iopub.status.busy": "2021-08-20T05:11:35.745468Z",
          "iopub.execute_input": "2021-08-20T05:11:35.745924Z",
          "iopub.status.idle": "2021-08-20T05:11:35.786076Z",
          "shell.execute_reply.started": "2021-08-20T05:11:35.745886Z",
          "shell.execute_reply": "2021-08-20T05:11:35.784639Z"
        },
        "trusted": true,
        "id": "0rnJ2sWwToB8"
      },
      "source": [
        "italian_wines = reviews.loc[reviews.country =='Italy']\n",
        "# Check your answer\n",
        "q8.check()"
      ],
      "execution_count": null,
      "outputs": []
    },
    {
      "cell_type": "code",
      "metadata": {
        "id": "fO7ralvcToB8"
      },
      "source": [
        "#q8.hint()\n",
        "#q8.solution()"
      ],
      "execution_count": null,
      "outputs": []
    },
    {
      "cell_type": "markdown",
      "metadata": {
        "id": "2Sk0e6SJToB9"
      },
      "source": [
        "## 9.\n",
        "\n",
        "Create a DataFrame `top_oceania_wines` containing all reviews with at least 95 points (out of 100) for wines from Australia or New Zealand."
      ]
    },
    {
      "cell_type": "code",
      "metadata": {
        "execution": {
          "iopub.status.busy": "2021-08-20T05:18:49.613285Z",
          "iopub.execute_input": "2021-08-20T05:18:49.613694Z",
          "iopub.status.idle": "2021-08-20T05:18:49.654438Z",
          "shell.execute_reply.started": "2021-08-20T05:18:49.613662Z",
          "shell.execute_reply": "2021-08-20T05:18:49.653688Z"
        },
        "trusted": true,
        "id": "P_NEQNaAToB9"
      },
      "source": [
        "top_oceania_wines = reviews.loc[\n",
        "    (reviews.country.isin(['Australia', 'New Zealand']))\n",
        "    & (reviews.points >= 95)\n",
        "]\n",
        "# Check your answer\n",
        "q9.check()\n",
        "top_oceania_wines"
      ],
      "execution_count": null,
      "outputs": []
    },
    {
      "cell_type": "code",
      "metadata": {
        "execution": {
          "iopub.status.busy": "2021-08-20T05:18:08.148577Z",
          "iopub.execute_input": "2021-08-20T05:18:08.149329Z",
          "iopub.status.idle": "2021-08-20T05:18:08.158730Z",
          "shell.execute_reply.started": "2021-08-20T05:18:08.149260Z",
          "shell.execute_reply": "2021-08-20T05:18:08.157010Z"
        },
        "trusted": true,
        "id": "j-bnk3bJToB9"
      },
      "source": [
        "#q9.hint()\n",
        "q9.solution()"
      ],
      "execution_count": null,
      "outputs": []
    },
    {
      "cell_type": "markdown",
      "metadata": {
        "id": "0RWupN6RToB9"
      },
      "source": [
        "# Keep going\n",
        "\n",
        "Move on to learn about **[summary functions and maps](https://www.kaggle.com/residentmario/summary-functions-and-maps)**."
      ]
    },
    {
      "cell_type": "markdown",
      "metadata": {
        "id": "ufkmMk8QToB9"
      },
      "source": [
        "---\n",
        "\n",
        "\n",
        "\n",
        "\n",
        "*Have questions or comments? Visit the [Learn Discussion forum](https://www.kaggle.com/learn-forum/161299) to chat with other Learners.*"
      ]
    }
  ]
}
