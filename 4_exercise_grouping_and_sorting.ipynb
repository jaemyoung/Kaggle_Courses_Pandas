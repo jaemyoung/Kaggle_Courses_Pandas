{
  "nbformat": 4,
  "nbformat_minor": 5,
  "metadata": {
    "kernelspec": {
      "display_name": "Python 3",
      "language": "python",
      "name": "python3"
    },
    "language_info": {
      "codemirror_mode": {
        "name": "ipython",
        "version": 3
      },
      "file_extension": ".py",
      "mimetype": "text/x-python",
      "name": "python",
      "nbconvert_exporter": "python",
      "pygments_lexer": "ipython3",
      "version": "3.7.10"
    },
    "papermill": {
      "default_parameters": {},
      "duration": 14.840931,
      "end_time": "2021-08-24T09:24:50.594889",
      "environment_variables": {},
      "exception": null,
      "input_path": "__notebook__.ipynb",
      "output_path": "__notebook__.ipynb",
      "parameters": {},
      "start_time": "2021-08-24T09:24:35.753958",
      "version": "2.3.3"
    },
    "colab": {
      "name": "4. exercise-grouping-and-sorting.ipynb",
      "provenance": [],
      "include_colab_link": true
    }
  },
  "cells": [
    {
      "cell_type": "markdown",
      "metadata": {
        "id": "view-in-github",
        "colab_type": "text"
      },
      "source": [
        "<a href=\"https://colab.research.google.com/github/jaemyoung/Kaggle_Courses_Pandas/blob/main/4_exercise_grouping_and_sorting.ipynb\" target=\"_parent\"><img src=\"https://colab.research.google.com/assets/colab-badge.svg\" alt=\"Open In Colab\"/></a>"
      ]
    },
    {
      "cell_type": "markdown",
      "metadata": {
        "papermill": {
          "duration": 0.026935,
          "end_time": "2021-08-24T09:24:44.072136",
          "exception": false,
          "start_time": "2021-08-24T09:24:44.045201",
          "status": "completed"
        },
        "tags": [],
        "id": "ccd14f25"
      },
      "source": [
        "**This notebook is an exercise in the [Pandas](https://www.kaggle.com/learn/pandas) course.  You can reference the tutorial at [this link](https://www.kaggle.com/residentmario/grouping-and-sorting).**\n",
        "\n",
        "---\n"
      ],
      "id": "ccd14f25"
    },
    {
      "cell_type": "markdown",
      "metadata": {
        "papermill": {
          "duration": 0.022629,
          "end_time": "2021-08-24T09:24:44.119879",
          "exception": false,
          "start_time": "2021-08-24T09:24:44.097250",
          "status": "completed"
        },
        "tags": [],
        "id": "de17d975"
      },
      "source": [
        "# Introduction\n",
        "\n",
        "In these exercises we'll apply groupwise analysis to our dataset.\n",
        "\n",
        "Run the code cell below to load the data before running the exercises."
      ],
      "id": "de17d975"
    },
    {
      "cell_type": "code",
      "metadata": {
        "execution": {
          "iopub.execute_input": "2021-08-24T09:24:44.171363Z",
          "iopub.status.busy": "2021-08-24T09:24:44.170158Z",
          "iopub.status.idle": "2021-08-24T09:24:47.493786Z",
          "shell.execute_reply": "2021-08-24T09:24:47.492956Z",
          "shell.execute_reply.started": "2021-08-24T08:38:16.866591Z"
        },
        "papermill": {
          "duration": 3.350183,
          "end_time": "2021-08-24T09:24:47.493971",
          "exception": false,
          "start_time": "2021-08-24T09:24:44.143788",
          "status": "completed"
        },
        "tags": [],
        "id": "2999ce1e",
        "outputId": "91c80278-011a-4a3f-9e1c-b9b55f29cd61"
      },
      "source": [
        "import pandas as pd\n",
        "\n",
        "reviews = pd.read_csv(\"../input/wine-reviews/winemag-data-130k-v2.csv\", index_col=0)\n",
        "#pd.set_option(\"display.max_rows\", 5)\n",
        "\n",
        "from learntools.core import binder; binder.bind(globals())\n",
        "from learntools.pandas.grouping_and_sorting import *\n",
        "print(\"Setup complete.\")"
      ],
      "id": "2999ce1e",
      "execution_count": null,
      "outputs": [
        {
          "name": "stdout",
          "output_type": "stream",
          "text": [
            "Setup complete.\n"
          ]
        }
      ]
    },
    {
      "cell_type": "markdown",
      "metadata": {
        "papermill": {
          "duration": 0.022757,
          "end_time": "2021-08-24T09:24:47.540285",
          "exception": false,
          "start_time": "2021-08-24T09:24:47.517528",
          "status": "completed"
        },
        "tags": [],
        "id": "411c80d5"
      },
      "source": [
        "# Exercises"
      ],
      "id": "411c80d5"
    },
    {
      "cell_type": "markdown",
      "metadata": {
        "papermill": {
          "duration": 0.02261,
          "end_time": "2021-08-24T09:24:47.586016",
          "exception": false,
          "start_time": "2021-08-24T09:24:47.563406",
          "status": "completed"
        },
        "tags": [],
        "id": "b27f475d"
      },
      "source": [
        "## 1.\n",
        "Who are the most common wine reviewers in the dataset? Create a `Series` whose index is the `taster_twitter_handle` category from the dataset, and whose values count how many reviews each person wrote."
      ],
      "id": "b27f475d"
    },
    {
      "cell_type": "code",
      "metadata": {
        "execution": {
          "iopub.execute_input": "2021-08-24T09:24:47.639141Z",
          "iopub.status.busy": "2021-08-24T09:24:47.638455Z",
          "iopub.status.idle": "2021-08-24T09:24:47.663723Z",
          "shell.execute_reply": "2021-08-24T09:24:47.663070Z",
          "shell.execute_reply.started": "2021-08-24T08:47:52.109058Z"
        },
        "papermill": {
          "duration": 0.054784,
          "end_time": "2021-08-24T09:24:47.663864",
          "exception": false,
          "start_time": "2021-08-24T09:24:47.609080",
          "status": "completed"
        },
        "tags": [],
        "id": "a91b4432",
        "outputId": "830e31b5-dd5f-4378-af94-616306f2ef48"
      },
      "source": [
        "reviews.head() # 아래 두코드는 같은 값을 같지만 groupby는 index를 해당 열로사용\n",
        "#print(reviews.groupby('taster_twitter_handle').taster_twitter_handle.count())\n",
        "#print(reviews.taster_twitter_handle.value_counts())"
      ],
      "id": "a91b4432",
      "execution_count": null,
      "outputs": [
        {
          "data": {
            "text/html": [
              "<div>\n",
              "<style scoped>\n",
              "    .dataframe tbody tr th:only-of-type {\n",
              "        vertical-align: middle;\n",
              "    }\n",
              "\n",
              "    .dataframe tbody tr th {\n",
              "        vertical-align: top;\n",
              "    }\n",
              "\n",
              "    .dataframe thead th {\n",
              "        text-align: right;\n",
              "    }\n",
              "</style>\n",
              "<table border=\"1\" class=\"dataframe\">\n",
              "  <thead>\n",
              "    <tr style=\"text-align: right;\">\n",
              "      <th></th>\n",
              "      <th>country</th>\n",
              "      <th>description</th>\n",
              "      <th>designation</th>\n",
              "      <th>points</th>\n",
              "      <th>price</th>\n",
              "      <th>province</th>\n",
              "      <th>region_1</th>\n",
              "      <th>region_2</th>\n",
              "      <th>taster_name</th>\n",
              "      <th>taster_twitter_handle</th>\n",
              "      <th>title</th>\n",
              "      <th>variety</th>\n",
              "      <th>winery</th>\n",
              "    </tr>\n",
              "  </thead>\n",
              "  <tbody>\n",
              "    <tr>\n",
              "      <th>0</th>\n",
              "      <td>Italy</td>\n",
              "      <td>Aromas include tropical fruit, broom, brimston...</td>\n",
              "      <td>Vulkà Bianco</td>\n",
              "      <td>87</td>\n",
              "      <td>NaN</td>\n",
              "      <td>Sicily &amp; Sardinia</td>\n",
              "      <td>Etna</td>\n",
              "      <td>NaN</td>\n",
              "      <td>Kerin O’Keefe</td>\n",
              "      <td>@kerinokeefe</td>\n",
              "      <td>Nicosia 2013 Vulkà Bianco  (Etna)</td>\n",
              "      <td>White Blend</td>\n",
              "      <td>Nicosia</td>\n",
              "    </tr>\n",
              "    <tr>\n",
              "      <th>1</th>\n",
              "      <td>Portugal</td>\n",
              "      <td>This is ripe and fruity, a wine that is smooth...</td>\n",
              "      <td>Avidagos</td>\n",
              "      <td>87</td>\n",
              "      <td>15.0</td>\n",
              "      <td>Douro</td>\n",
              "      <td>NaN</td>\n",
              "      <td>NaN</td>\n",
              "      <td>Roger Voss</td>\n",
              "      <td>@vossroger</td>\n",
              "      <td>Quinta dos Avidagos 2011 Avidagos Red (Douro)</td>\n",
              "      <td>Portuguese Red</td>\n",
              "      <td>Quinta dos Avidagos</td>\n",
              "    </tr>\n",
              "    <tr>\n",
              "      <th>2</th>\n",
              "      <td>US</td>\n",
              "      <td>Tart and snappy, the flavors of lime flesh and...</td>\n",
              "      <td>NaN</td>\n",
              "      <td>87</td>\n",
              "      <td>14.0</td>\n",
              "      <td>Oregon</td>\n",
              "      <td>Willamette Valley</td>\n",
              "      <td>Willamette Valley</td>\n",
              "      <td>Paul Gregutt</td>\n",
              "      <td>@paulgwine</td>\n",
              "      <td>Rainstorm 2013 Pinot Gris (Willamette Valley)</td>\n",
              "      <td>Pinot Gris</td>\n",
              "      <td>Rainstorm</td>\n",
              "    </tr>\n",
              "    <tr>\n",
              "      <th>3</th>\n",
              "      <td>US</td>\n",
              "      <td>Pineapple rind, lemon pith and orange blossom ...</td>\n",
              "      <td>Reserve Late Harvest</td>\n",
              "      <td>87</td>\n",
              "      <td>13.0</td>\n",
              "      <td>Michigan</td>\n",
              "      <td>Lake Michigan Shore</td>\n",
              "      <td>NaN</td>\n",
              "      <td>Alexander Peartree</td>\n",
              "      <td>NaN</td>\n",
              "      <td>St. Julian 2013 Reserve Late Harvest Riesling ...</td>\n",
              "      <td>Riesling</td>\n",
              "      <td>St. Julian</td>\n",
              "    </tr>\n",
              "    <tr>\n",
              "      <th>4</th>\n",
              "      <td>US</td>\n",
              "      <td>Much like the regular bottling from 2012, this...</td>\n",
              "      <td>Vintner's Reserve Wild Child Block</td>\n",
              "      <td>87</td>\n",
              "      <td>65.0</td>\n",
              "      <td>Oregon</td>\n",
              "      <td>Willamette Valley</td>\n",
              "      <td>Willamette Valley</td>\n",
              "      <td>Paul Gregutt</td>\n",
              "      <td>@paulgwine</td>\n",
              "      <td>Sweet Cheeks 2012 Vintner's Reserve Wild Child...</td>\n",
              "      <td>Pinot Noir</td>\n",
              "      <td>Sweet Cheeks</td>\n",
              "    </tr>\n",
              "  </tbody>\n",
              "</table>\n",
              "</div>"
            ],
            "text/plain": [
              "    country                                        description  \\\n",
              "0     Italy  Aromas include tropical fruit, broom, brimston...   \n",
              "1  Portugal  This is ripe and fruity, a wine that is smooth...   \n",
              "2        US  Tart and snappy, the flavors of lime flesh and...   \n",
              "3        US  Pineapple rind, lemon pith and orange blossom ...   \n",
              "4        US  Much like the regular bottling from 2012, this...   \n",
              "\n",
              "                          designation  points  price           province  \\\n",
              "0                        Vulkà Bianco      87    NaN  Sicily & Sardinia   \n",
              "1                            Avidagos      87   15.0              Douro   \n",
              "2                                 NaN      87   14.0             Oregon   \n",
              "3                Reserve Late Harvest      87   13.0           Michigan   \n",
              "4  Vintner's Reserve Wild Child Block      87   65.0             Oregon   \n",
              "\n",
              "              region_1           region_2         taster_name  \\\n",
              "0                 Etna                NaN       Kerin O’Keefe   \n",
              "1                  NaN                NaN          Roger Voss   \n",
              "2    Willamette Valley  Willamette Valley        Paul Gregutt   \n",
              "3  Lake Michigan Shore                NaN  Alexander Peartree   \n",
              "4    Willamette Valley  Willamette Valley        Paul Gregutt   \n",
              "\n",
              "  taster_twitter_handle                                              title  \\\n",
              "0          @kerinokeefe                  Nicosia 2013 Vulkà Bianco  (Etna)   \n",
              "1            @vossroger      Quinta dos Avidagos 2011 Avidagos Red (Douro)   \n",
              "2           @paulgwine       Rainstorm 2013 Pinot Gris (Willamette Valley)   \n",
              "3                   NaN  St. Julian 2013 Reserve Late Harvest Riesling ...   \n",
              "4           @paulgwine   Sweet Cheeks 2012 Vintner's Reserve Wild Child...   \n",
              "\n",
              "          variety               winery  \n",
              "0     White Blend              Nicosia  \n",
              "1  Portuguese Red  Quinta dos Avidagos  \n",
              "2      Pinot Gris            Rainstorm  \n",
              "3        Riesling           St. Julian  \n",
              "4      Pinot Noir         Sweet Cheeks  "
            ]
          },
          "execution_count": 2,
          "metadata": {},
          "output_type": "execute_result"
        }
      ]
    },
    {
      "cell_type": "code",
      "metadata": {
        "execution": {
          "iopub.execute_input": "2021-08-24T09:24:47.733225Z",
          "iopub.status.busy": "2021-08-24T09:24:47.732279Z",
          "iopub.status.idle": "2021-08-24T09:24:47.752658Z",
          "shell.execute_reply": "2021-08-24T09:24:47.753163Z",
          "shell.execute_reply.started": "2021-08-24T08:42:32.098032Z"
        },
        "papermill": {
          "duration": 0.065682,
          "end_time": "2021-08-24T09:24:47.753337",
          "exception": false,
          "start_time": "2021-08-24T09:24:47.687655",
          "status": "completed"
        },
        "tags": [],
        "id": "60d1c273",
        "outputId": "3994d46d-919d-4d79-98ac-29a3c6b71137"
      },
      "source": [
        "# Your code here\n",
        "reviews_written = reviews.groupby('taster_twitter_handle').taster_twitter_handle.count()\n",
        "\n",
        "# Check your answer\n",
        "q1.check()"
      ],
      "id": "60d1c273",
      "execution_count": null,
      "outputs": [
        {
          "data": {
            "application/javascript": [
              "parent.postMessage({\"jupyterEvent\": \"custom.exercise_interaction\", \"data\": {\"outcomeType\": 1, \"valueTowardsCompletion\": 0.16666666666666666, \"interactionType\": 1, \"questionType\": 1, \"questionId\": \"1_ReviewsWritten\", \"learnToolsVersion\": \"0.3.4\", \"failureMessage\": \"\", \"exceptionClass\": \"\", \"trace\": \"\"}}, \"*\")"
            ],
            "text/plain": [
              "<IPython.core.display.Javascript object>"
            ]
          },
          "metadata": {},
          "output_type": "display_data"
        },
        {
          "data": {
            "text/markdown": [
              "<span style=\"color:#33cc33\">Correct:</span> \n",
              "\n",
              "\n",
              "```python\n",
              "reviews_written = reviews.groupby('taster_twitter_handle').size()\n",
              "```\n",
              "or\n",
              "```python\n",
              "reviews_written = reviews.groupby('taster_twitter_handle').taster_twitter_handle.count()\n",
              "```\n"
            ],
            "text/plain": [
              "Correct: \n",
              "\n",
              "\n",
              "```python\n",
              "reviews_written = reviews.groupby('taster_twitter_handle').size()\n",
              "```\n",
              "or\n",
              "```python\n",
              "reviews_written = reviews.groupby('taster_twitter_handle').taster_twitter_handle.count()\n",
              "```"
            ]
          },
          "metadata": {},
          "output_type": "display_data"
        }
      ]
    },
    {
      "cell_type": "code",
      "metadata": {
        "execution": {
          "iopub.execute_input": "2021-08-24T09:24:47.807671Z",
          "iopub.status.busy": "2021-08-24T09:24:47.807014Z",
          "iopub.status.idle": "2021-08-24T09:24:47.810269Z",
          "shell.execute_reply": "2021-08-24T09:24:47.809745Z"
        },
        "papermill": {
          "duration": 0.032014,
          "end_time": "2021-08-24T09:24:47.810407",
          "exception": false,
          "start_time": "2021-08-24T09:24:47.778393",
          "status": "completed"
        },
        "tags": [],
        "id": "e24a30f0"
      },
      "source": [
        "#q1.hint()\n",
        "#q1.solution()"
      ],
      "id": "e24a30f0",
      "execution_count": null,
      "outputs": []
    },
    {
      "cell_type": "markdown",
      "metadata": {
        "papermill": {
          "duration": 0.024857,
          "end_time": "2021-08-24T09:24:47.861553",
          "exception": false,
          "start_time": "2021-08-24T09:24:47.836696",
          "status": "completed"
        },
        "tags": [],
        "id": "c764b24c"
      },
      "source": [
        "## 2.\n",
        "What is the best wine I can buy for a given amount of money? Create a `Series` whose index is wine prices and whose values is the maximum number of points a wine costing that much was given in a review. Sort the values by price, ascending (so that `4.0` dollars is at the top and `3300.0` dollars is at the bottom)."
      ],
      "id": "c764b24c"
    },
    {
      "cell_type": "code",
      "metadata": {
        "execution": {
          "iopub.execute_input": "2021-08-24T09:24:47.917406Z",
          "iopub.status.busy": "2021-08-24T09:24:47.916673Z",
          "iopub.status.idle": "2021-08-24T09:24:47.927463Z",
          "shell.execute_reply": "2021-08-24T09:24:47.926828Z",
          "shell.execute_reply.started": "2021-08-24T08:53:24.555827Z"
        },
        "papermill": {
          "duration": 0.040952,
          "end_time": "2021-08-24T09:24:47.927597",
          "exception": false,
          "start_time": "2021-08-24T09:24:47.886645",
          "status": "completed"
        },
        "tags": [],
        "id": "de8182f0",
        "outputId": "75e9fc03-b91d-425e-902e-059360d3d320"
      },
      "source": [
        "print(reviews.groupby('price').points.max())"
      ],
      "id": "de8182f0",
      "execution_count": null,
      "outputs": [
        {
          "name": "stdout",
          "output_type": "stream",
          "text": [
            "price\n",
            "4.0       86\n",
            "5.0       87\n",
            "6.0       88\n",
            "7.0       91\n",
            "8.0       91\n",
            "          ..\n",
            "1900.0    98\n",
            "2000.0    97\n",
            "2013.0    91\n",
            "2500.0    96\n",
            "3300.0    88\n",
            "Name: points, Length: 390, dtype: int64\n"
          ]
        }
      ]
    },
    {
      "cell_type": "code",
      "metadata": {
        "execution": {
          "iopub.execute_input": "2021-08-24T09:24:47.984046Z",
          "iopub.status.busy": "2021-08-24T09:24:47.983003Z",
          "iopub.status.idle": "2021-08-24T09:24:47.994346Z",
          "shell.execute_reply": "2021-08-24T09:24:47.993746Z",
          "shell.execute_reply.started": "2021-08-24T08:53:36.489446Z"
        },
        "papermill": {
          "duration": 0.041754,
          "end_time": "2021-08-24T09:24:47.994494",
          "exception": false,
          "start_time": "2021-08-24T09:24:47.952740",
          "status": "completed"
        },
        "tags": [],
        "id": "f9ef63a8",
        "outputId": "6aee3ff3-b4da-4b39-b9dc-94b535aa97e5"
      },
      "source": [
        "best_rating_per_price =reviews.groupby('price').points.max()# point 열에서 가격에 해당되는 값의 max값을 불러옴\n",
        "\n",
        "# Check your answer\n",
        "q2.check()"
      ],
      "id": "f9ef63a8",
      "execution_count": null,
      "outputs": [
        {
          "data": {
            "application/javascript": [
              "parent.postMessage({\"jupyterEvent\": \"custom.exercise_interaction\", \"data\": {\"outcomeType\": 1, \"valueTowardsCompletion\": 0.16666666666666666, \"interactionType\": 1, \"questionType\": 1, \"questionId\": \"2_BestRatingPerPrice\", \"learnToolsVersion\": \"0.3.4\", \"failureMessage\": \"\", \"exceptionClass\": \"\", \"trace\": \"\"}}, \"*\")"
            ],
            "text/plain": [
              "<IPython.core.display.Javascript object>"
            ]
          },
          "metadata": {},
          "output_type": "display_data"
        },
        {
          "data": {
            "text/markdown": [
              "<span style=\"color:#33cc33\">Correct</span>"
            ],
            "text/plain": [
              "Correct"
            ]
          },
          "metadata": {},
          "output_type": "display_data"
        }
      ]
    },
    {
      "cell_type": "code",
      "metadata": {
        "execution": {
          "iopub.execute_input": "2021-08-24T09:24:48.053141Z",
          "iopub.status.busy": "2021-08-24T09:24:48.052205Z",
          "iopub.status.idle": "2021-08-24T09:24:48.058663Z",
          "shell.execute_reply": "2021-08-24T09:24:48.058075Z",
          "shell.execute_reply.started": "2021-08-24T08:52:29.063662Z"
        },
        "papermill": {
          "duration": 0.03801,
          "end_time": "2021-08-24T09:24:48.058830",
          "exception": false,
          "start_time": "2021-08-24T09:24:48.020820",
          "status": "completed"
        },
        "tags": [],
        "id": "1c454484",
        "outputId": "68e0adc5-7f99-4b3e-88e3-f2971f1f71a1"
      },
      "source": [
        "q2.hint()\n",
        "#q2.solution()"
      ],
      "id": "1c454484",
      "execution_count": null,
      "outputs": [
        {
          "data": {
            "application/javascript": [
              "parent.postMessage({\"jupyterEvent\": \"custom.exercise_interaction\", \"data\": {\"interactionType\": 2, \"questionType\": 1, \"questionId\": \"2_BestRatingPerPrice\", \"learnToolsVersion\": \"0.3.4\", \"valueTowardsCompletion\": 0.0, \"failureMessage\": \"\", \"exceptionClass\": \"\", \"trace\": \"\", \"outcomeType\": 4}}, \"*\")"
            ],
            "text/plain": [
              "<IPython.core.display.Javascript object>"
            ]
          },
          "metadata": {},
          "output_type": "display_data"
        },
        {
          "data": {
            "text/markdown": [
              "<span style=\"color:#3366cc\">Hint:</span> Use `max()` and `sort_index()`.  The relevant columns in the DataFrame are `price` and `points`."
            ],
            "text/plain": [
              "Hint: Use `max()` and `sort_index()`.  The relevant columns in the DataFrame are `price` and `points`."
            ]
          },
          "metadata": {},
          "output_type": "display_data"
        }
      ]
    },
    {
      "cell_type": "markdown",
      "metadata": {
        "papermill": {
          "duration": 0.027583,
          "end_time": "2021-08-24T09:24:48.114058",
          "exception": false,
          "start_time": "2021-08-24T09:24:48.086475",
          "status": "completed"
        },
        "tags": [],
        "id": "0d45ce96"
      },
      "source": [
        "## 3.\n",
        "What are the minimum and maximum prices for each `variety` of wine? Create a `DataFrame` whose index is the `variety` category from the dataset and whose values are the `min` and `max` values thereof."
      ],
      "id": "0d45ce96"
    },
    {
      "cell_type": "code",
      "metadata": {
        "execution": {
          "iopub.execute_input": "2021-08-24T09:24:48.175758Z",
          "iopub.status.busy": "2021-08-24T09:24:48.175060Z",
          "iopub.status.idle": "2021-08-24T09:24:48.211366Z",
          "shell.execute_reply": "2021-08-24T09:24:48.210797Z",
          "shell.execute_reply.started": "2021-08-24T09:12:35.588945Z"
        },
        "papermill": {
          "duration": 0.069981,
          "end_time": "2021-08-24T09:24:48.211519",
          "exception": false,
          "start_time": "2021-08-24T09:24:48.141538",
          "status": "completed"
        },
        "tags": [],
        "id": "4fec270d",
        "outputId": "4ef7b9a5-a7fb-4735-c896-e6261d6825d2"
      },
      "source": [
        "print(reviews.groupby('variety').price.agg([min, max]) )"
      ],
      "id": "4fec270d",
      "execution_count": null,
      "outputs": [
        {
          "name": "stdout",
          "output_type": "stream",
          "text": [
            "              min    max\n",
            "variety                 \n",
            "Abouriou     15.0   75.0\n",
            "Agiorgitiko  10.0   66.0\n",
            "Aglianico     6.0  180.0\n",
            "Aidani       27.0   27.0\n",
            "Airen         8.0   10.0\n",
            "...           ...    ...\n",
            "Zinfandel     5.0  100.0\n",
            "Zlahtina     13.0   16.0\n",
            "Zweigelt      9.0   70.0\n",
            "Çalkarası    19.0   19.0\n",
            "Žilavka      15.0   15.0\n",
            "\n",
            "[707 rows x 2 columns]\n"
          ]
        }
      ]
    },
    {
      "cell_type": "code",
      "metadata": {
        "execution": {
          "iopub.execute_input": "2021-08-24T09:24:48.290600Z",
          "iopub.status.busy": "2021-08-24T09:24:48.289894Z",
          "iopub.status.idle": "2021-08-24T09:24:48.301075Z",
          "shell.execute_reply": "2021-08-24T09:24:48.301591Z",
          "shell.execute_reply.started": "2021-08-24T09:04:20.666049Z"
        },
        "papermill": {
          "duration": 0.062374,
          "end_time": "2021-08-24T09:24:48.301776",
          "exception": false,
          "start_time": "2021-08-24T09:24:48.239402",
          "status": "completed"
        },
        "tags": [],
        "id": "ce4cef7a",
        "outputId": "88aa5c7e-8e39-4f2e-84d9-6a93ea8dca77"
      },
      "source": [
        "price_extremes = reviews.groupby('variety').price.agg([min, max]) # agg함수를 사용하여 통계량 확인가능\n",
        "\n",
        "# Check your answer\n",
        "q3.check()"
      ],
      "id": "ce4cef7a",
      "execution_count": null,
      "outputs": [
        {
          "data": {
            "application/javascript": [
              "parent.postMessage({\"jupyterEvent\": \"custom.exercise_interaction\", \"data\": {\"outcomeType\": 1, \"valueTowardsCompletion\": 0.16666666666666666, \"interactionType\": 1, \"questionType\": 1, \"questionId\": \"3_PriceExtremes\", \"learnToolsVersion\": \"0.3.4\", \"failureMessage\": \"\", \"exceptionClass\": \"\", \"trace\": \"\"}}, \"*\")"
            ],
            "text/plain": [
              "<IPython.core.display.Javascript object>"
            ]
          },
          "metadata": {},
          "output_type": "display_data"
        },
        {
          "data": {
            "text/markdown": [
              "<span style=\"color:#33cc33\">Correct</span>"
            ],
            "text/plain": [
              "Correct"
            ]
          },
          "metadata": {},
          "output_type": "display_data"
        }
      ]
    },
    {
      "cell_type": "code",
      "metadata": {
        "execution": {
          "iopub.execute_input": "2021-08-24T09:24:48.364381Z",
          "iopub.status.busy": "2021-08-24T09:24:48.363685Z",
          "iopub.status.idle": "2021-08-24T09:24:48.371539Z",
          "shell.execute_reply": "2021-08-24T09:24:48.372075Z",
          "shell.execute_reply.started": "2021-08-24T09:03:05.955572Z"
        },
        "papermill": {
          "duration": 0.041952,
          "end_time": "2021-08-24T09:24:48.372240",
          "exception": false,
          "start_time": "2021-08-24T09:24:48.330288",
          "status": "completed"
        },
        "tags": [],
        "id": "283893b2",
        "outputId": "a286837a-a58d-4cc8-f6ca-420121cdc8e0"
      },
      "source": [
        "q3.hint()\n",
        "q3.solution()"
      ],
      "id": "283893b2",
      "execution_count": null,
      "outputs": [
        {
          "data": {
            "application/javascript": [
              "parent.postMessage({\"jupyterEvent\": \"custom.exercise_interaction\", \"data\": {\"interactionType\": 2, \"questionType\": 1, \"questionId\": \"3_PriceExtremes\", \"learnToolsVersion\": \"0.3.4\", \"valueTowardsCompletion\": 0.0, \"failureMessage\": \"\", \"exceptionClass\": \"\", \"trace\": \"\", \"outcomeType\": 4}}, \"*\")"
            ],
            "text/plain": [
              "<IPython.core.display.Javascript object>"
            ]
          },
          "metadata": {},
          "output_type": "display_data"
        },
        {
          "data": {
            "text/markdown": [
              "<span style=\"color:#3366cc\">Hint:</span> Use `agg()`."
            ],
            "text/plain": [
              "Hint: Use `agg()`."
            ]
          },
          "metadata": {},
          "output_type": "display_data"
        },
        {
          "data": {
            "application/javascript": [
              "parent.postMessage({\"jupyterEvent\": \"custom.exercise_interaction\", \"data\": {\"interactionType\": 3, \"questionType\": 1, \"questionId\": \"3_PriceExtremes\", \"learnToolsVersion\": \"0.3.4\", \"valueTowardsCompletion\": 0.0, \"failureMessage\": \"\", \"exceptionClass\": \"\", \"trace\": \"\", \"outcomeType\": 4}}, \"*\")"
            ],
            "text/plain": [
              "<IPython.core.display.Javascript object>"
            ]
          },
          "metadata": {},
          "output_type": "display_data"
        },
        {
          "data": {
            "text/markdown": [
              "<span style=\"color:#33cc99\">Solution:</span> \n",
              "```python\n",
              "price_extremes = reviews.groupby('variety').price.agg([min, max])\n",
              "```"
            ],
            "text/plain": [
              "Solution: \n",
              "```python\n",
              "price_extremes = reviews.groupby('variety').price.agg([min, max])\n",
              "```"
            ]
          },
          "metadata": {},
          "output_type": "display_data"
        }
      ]
    },
    {
      "cell_type": "markdown",
      "metadata": {
        "papermill": {
          "duration": 0.030198,
          "end_time": "2021-08-24T09:24:48.432839",
          "exception": false,
          "start_time": "2021-08-24T09:24:48.402641",
          "status": "completed"
        },
        "tags": [],
        "id": "476d0981"
      },
      "source": [
        "## 4.\n",
        "What are the most expensive wine varieties? Create a variable `sorted_varieties` containing a copy of the dataframe from the previous question where varieties are sorted in descending order based on minimum price, then on maximum price (to break ties)."
      ],
      "id": "476d0981"
    },
    {
      "cell_type": "code",
      "metadata": {
        "execution": {
          "iopub.execute_input": "2021-08-24T09:24:48.496759Z",
          "iopub.status.busy": "2021-08-24T09:24:48.496066Z",
          "iopub.status.idle": "2021-08-24T09:24:48.507084Z",
          "shell.execute_reply": "2021-08-24T09:24:48.506396Z",
          "shell.execute_reply.started": "2021-08-24T09:13:46.669869Z"
        },
        "papermill": {
          "duration": 0.043931,
          "end_time": "2021-08-24T09:24:48.507228",
          "exception": false,
          "start_time": "2021-08-24T09:24:48.463297",
          "status": "completed"
        },
        "tags": [],
        "id": "64d72984",
        "outputId": "38f18db3-845e-48a0-b37b-139bc629a989"
      },
      "source": [
        "print( price_extremes.sort_values(by=[ 'min'], ascending=False))"
      ],
      "id": "64d72984",
      "execution_count": null,
      "outputs": [
        {
          "name": "stdout",
          "output_type": "stream",
          "text": [
            "                                  min    max\n",
            "variety                                     \n",
            "Ramisco                         495.0  495.0\n",
            "Terrantez                       236.0  236.0\n",
            "Francisa                        160.0  160.0\n",
            "Rosenmuskateller                150.0  150.0\n",
            "Tinta Negra Mole                112.0  112.0\n",
            "...                               ...    ...\n",
            "Roscetto                          NaN    NaN\n",
            "Sauvignon Blanc-Sauvignon Gris    NaN    NaN\n",
            "Tempranillo-Malbec                NaN    NaN\n",
            "Vital                             NaN    NaN\n",
            "Zelen                             NaN    NaN\n",
            "\n",
            "[707 rows x 2 columns]\n"
          ]
        }
      ]
    },
    {
      "cell_type": "code",
      "metadata": {
        "execution": {
          "iopub.execute_input": "2021-08-24T09:24:48.575407Z",
          "iopub.status.busy": "2021-08-24T09:24:48.574703Z",
          "iopub.status.idle": "2021-08-24T09:24:48.583245Z",
          "shell.execute_reply": "2021-08-24T09:24:48.582673Z",
          "shell.execute_reply.started": "2021-08-24T09:14:00.081318Z"
        },
        "papermill": {
          "duration": 0.045207,
          "end_time": "2021-08-24T09:24:48.583386",
          "exception": false,
          "start_time": "2021-08-24T09:24:48.538179",
          "status": "completed"
        },
        "tags": [],
        "id": "a97b4aca",
        "outputId": "4cb81ef3-d43b-41cd-90db-12ac248c2ab9"
      },
      "source": [
        "sorted_varieties = price_extremes.sort_values(by=['min', 'max'], ascending=False)\n",
        "\n",
        "# Check your answer\n",
        "q4.check()"
      ],
      "id": "a97b4aca",
      "execution_count": null,
      "outputs": [
        {
          "data": {
            "application/javascript": [
              "parent.postMessage({\"jupyterEvent\": \"custom.exercise_interaction\", \"data\": {\"outcomeType\": 1, \"valueTowardsCompletion\": 0.16666666666666666, \"interactionType\": 1, \"questionType\": 1, \"questionId\": \"4_SortedVarieties\", \"learnToolsVersion\": \"0.3.4\", \"failureMessage\": \"\", \"exceptionClass\": \"\", \"trace\": \"\"}}, \"*\")"
            ],
            "text/plain": [
              "<IPython.core.display.Javascript object>"
            ]
          },
          "metadata": {},
          "output_type": "display_data"
        },
        {
          "data": {
            "text/markdown": [
              "<span style=\"color:#33cc33\">Correct</span>"
            ],
            "text/plain": [
              "Correct"
            ]
          },
          "metadata": {},
          "output_type": "display_data"
        }
      ]
    },
    {
      "cell_type": "code",
      "metadata": {
        "execution": {
          "iopub.execute_input": "2021-08-24T09:24:48.651834Z",
          "iopub.status.busy": "2021-08-24T09:24:48.650873Z",
          "iopub.status.idle": "2021-08-24T09:24:48.662351Z",
          "shell.execute_reply": "2021-08-24T09:24:48.662894Z",
          "shell.execute_reply.started": "2021-08-24T09:11:07.101119Z"
        },
        "papermill": {
          "duration": 0.047985,
          "end_time": "2021-08-24T09:24:48.663097",
          "exception": false,
          "start_time": "2021-08-24T09:24:48.615112",
          "status": "completed"
        },
        "tags": [],
        "id": "c0c405c7",
        "outputId": "963cb228-f412-43df-d12c-097674525aa8"
      },
      "source": [
        "q4.hint()\n",
        "q4.solution()"
      ],
      "id": "c0c405c7",
      "execution_count": null,
      "outputs": [
        {
          "data": {
            "application/javascript": [
              "parent.postMessage({\"jupyterEvent\": \"custom.exercise_interaction\", \"data\": {\"interactionType\": 2, \"questionType\": 1, \"questionId\": \"4_SortedVarieties\", \"learnToolsVersion\": \"0.3.4\", \"valueTowardsCompletion\": 0.0, \"failureMessage\": \"\", \"exceptionClass\": \"\", \"trace\": \"\", \"outcomeType\": 4}}, \"*\")"
            ],
            "text/plain": [
              "<IPython.core.display.Javascript object>"
            ]
          },
          "metadata": {},
          "output_type": "display_data"
        },
        {
          "data": {
            "text/markdown": [
              "<span style=\"color:#3366cc\">Hint:</span> Use `sort_values()`, and provide a list of names to sort by."
            ],
            "text/plain": [
              "Hint: Use `sort_values()`, and provide a list of names to sort by."
            ]
          },
          "metadata": {},
          "output_type": "display_data"
        },
        {
          "data": {
            "application/javascript": [
              "parent.postMessage({\"jupyterEvent\": \"custom.exercise_interaction\", \"data\": {\"interactionType\": 3, \"questionType\": 1, \"questionId\": \"4_SortedVarieties\", \"learnToolsVersion\": \"0.3.4\", \"valueTowardsCompletion\": 0.0, \"failureMessage\": \"\", \"exceptionClass\": \"\", \"trace\": \"\", \"outcomeType\": 4}}, \"*\")"
            ],
            "text/plain": [
              "<IPython.core.display.Javascript object>"
            ]
          },
          "metadata": {},
          "output_type": "display_data"
        },
        {
          "data": {
            "text/markdown": [
              "<span style=\"color:#33cc99\">Solution:</span> \n",
              "```python\n",
              "sorted_varieties = price_extremes.sort_values(by=['min', 'max'], ascending=False)\n",
              "```"
            ],
            "text/plain": [
              "Solution: \n",
              "```python\n",
              "sorted_varieties = price_extremes.sort_values(by=['min', 'max'], ascending=False)\n",
              "```"
            ]
          },
          "metadata": {},
          "output_type": "display_data"
        }
      ]
    },
    {
      "cell_type": "markdown",
      "metadata": {
        "papermill": {
          "duration": 0.034295,
          "end_time": "2021-08-24T09:24:48.731788",
          "exception": false,
          "start_time": "2021-08-24T09:24:48.697493",
          "status": "completed"
        },
        "tags": [],
        "id": "33afd4bb"
      },
      "source": [
        "## 5.\n",
        "Create a `Series` whose index is reviewers and whose values is the average review score given out by that reviewer. Hint: you will need the `taster_name` and `points` columns."
      ],
      "id": "33afd4bb"
    },
    {
      "cell_type": "code",
      "metadata": {
        "execution": {
          "iopub.execute_input": "2021-08-24T09:24:48.818129Z",
          "iopub.status.busy": "2021-08-24T09:24:48.817175Z",
          "iopub.status.idle": "2021-08-24T09:24:48.821429Z",
          "shell.execute_reply": "2021-08-24T09:24:48.820895Z",
          "shell.execute_reply.started": "2021-08-24T09:14:49.860377Z"
        },
        "papermill": {
          "duration": 0.056027,
          "end_time": "2021-08-24T09:24:48.821573",
          "exception": false,
          "start_time": "2021-08-24T09:24:48.765546",
          "status": "completed"
        },
        "tags": [],
        "id": "85983d63",
        "outputId": "fcb8077c-bf0e-46b9-85a5-cca66f188a2d"
      },
      "source": [
        "reviews.head()"
      ],
      "id": "85983d63",
      "execution_count": null,
      "outputs": [
        {
          "data": {
            "text/html": [
              "<div>\n",
              "<style scoped>\n",
              "    .dataframe tbody tr th:only-of-type {\n",
              "        vertical-align: middle;\n",
              "    }\n",
              "\n",
              "    .dataframe tbody tr th {\n",
              "        vertical-align: top;\n",
              "    }\n",
              "\n",
              "    .dataframe thead th {\n",
              "        text-align: right;\n",
              "    }\n",
              "</style>\n",
              "<table border=\"1\" class=\"dataframe\">\n",
              "  <thead>\n",
              "    <tr style=\"text-align: right;\">\n",
              "      <th></th>\n",
              "      <th>country</th>\n",
              "      <th>description</th>\n",
              "      <th>designation</th>\n",
              "      <th>points</th>\n",
              "      <th>price</th>\n",
              "      <th>province</th>\n",
              "      <th>region_1</th>\n",
              "      <th>region_2</th>\n",
              "      <th>taster_name</th>\n",
              "      <th>taster_twitter_handle</th>\n",
              "      <th>title</th>\n",
              "      <th>variety</th>\n",
              "      <th>winery</th>\n",
              "    </tr>\n",
              "  </thead>\n",
              "  <tbody>\n",
              "    <tr>\n",
              "      <th>0</th>\n",
              "      <td>Italy</td>\n",
              "      <td>Aromas include tropical fruit, broom, brimston...</td>\n",
              "      <td>Vulkà Bianco</td>\n",
              "      <td>87</td>\n",
              "      <td>NaN</td>\n",
              "      <td>Sicily &amp; Sardinia</td>\n",
              "      <td>Etna</td>\n",
              "      <td>NaN</td>\n",
              "      <td>Kerin O’Keefe</td>\n",
              "      <td>@kerinokeefe</td>\n",
              "      <td>Nicosia 2013 Vulkà Bianco  (Etna)</td>\n",
              "      <td>White Blend</td>\n",
              "      <td>Nicosia</td>\n",
              "    </tr>\n",
              "    <tr>\n",
              "      <th>1</th>\n",
              "      <td>Portugal</td>\n",
              "      <td>This is ripe and fruity, a wine that is smooth...</td>\n",
              "      <td>Avidagos</td>\n",
              "      <td>87</td>\n",
              "      <td>15.0</td>\n",
              "      <td>Douro</td>\n",
              "      <td>NaN</td>\n",
              "      <td>NaN</td>\n",
              "      <td>Roger Voss</td>\n",
              "      <td>@vossroger</td>\n",
              "      <td>Quinta dos Avidagos 2011 Avidagos Red (Douro)</td>\n",
              "      <td>Portuguese Red</td>\n",
              "      <td>Quinta dos Avidagos</td>\n",
              "    </tr>\n",
              "    <tr>\n",
              "      <th>2</th>\n",
              "      <td>US</td>\n",
              "      <td>Tart and snappy, the flavors of lime flesh and...</td>\n",
              "      <td>NaN</td>\n",
              "      <td>87</td>\n",
              "      <td>14.0</td>\n",
              "      <td>Oregon</td>\n",
              "      <td>Willamette Valley</td>\n",
              "      <td>Willamette Valley</td>\n",
              "      <td>Paul Gregutt</td>\n",
              "      <td>@paulgwine</td>\n",
              "      <td>Rainstorm 2013 Pinot Gris (Willamette Valley)</td>\n",
              "      <td>Pinot Gris</td>\n",
              "      <td>Rainstorm</td>\n",
              "    </tr>\n",
              "    <tr>\n",
              "      <th>3</th>\n",
              "      <td>US</td>\n",
              "      <td>Pineapple rind, lemon pith and orange blossom ...</td>\n",
              "      <td>Reserve Late Harvest</td>\n",
              "      <td>87</td>\n",
              "      <td>13.0</td>\n",
              "      <td>Michigan</td>\n",
              "      <td>Lake Michigan Shore</td>\n",
              "      <td>NaN</td>\n",
              "      <td>Alexander Peartree</td>\n",
              "      <td>NaN</td>\n",
              "      <td>St. Julian 2013 Reserve Late Harvest Riesling ...</td>\n",
              "      <td>Riesling</td>\n",
              "      <td>St. Julian</td>\n",
              "    </tr>\n",
              "    <tr>\n",
              "      <th>4</th>\n",
              "      <td>US</td>\n",
              "      <td>Much like the regular bottling from 2012, this...</td>\n",
              "      <td>Vintner's Reserve Wild Child Block</td>\n",
              "      <td>87</td>\n",
              "      <td>65.0</td>\n",
              "      <td>Oregon</td>\n",
              "      <td>Willamette Valley</td>\n",
              "      <td>Willamette Valley</td>\n",
              "      <td>Paul Gregutt</td>\n",
              "      <td>@paulgwine</td>\n",
              "      <td>Sweet Cheeks 2012 Vintner's Reserve Wild Child...</td>\n",
              "      <td>Pinot Noir</td>\n",
              "      <td>Sweet Cheeks</td>\n",
              "    </tr>\n",
              "  </tbody>\n",
              "</table>\n",
              "</div>"
            ],
            "text/plain": [
              "    country                                        description  \\\n",
              "0     Italy  Aromas include tropical fruit, broom, brimston...   \n",
              "1  Portugal  This is ripe and fruity, a wine that is smooth...   \n",
              "2        US  Tart and snappy, the flavors of lime flesh and...   \n",
              "3        US  Pineapple rind, lemon pith and orange blossom ...   \n",
              "4        US  Much like the regular bottling from 2012, this...   \n",
              "\n",
              "                          designation  points  price           province  \\\n",
              "0                        Vulkà Bianco      87    NaN  Sicily & Sardinia   \n",
              "1                            Avidagos      87   15.0              Douro   \n",
              "2                                 NaN      87   14.0             Oregon   \n",
              "3                Reserve Late Harvest      87   13.0           Michigan   \n",
              "4  Vintner's Reserve Wild Child Block      87   65.0             Oregon   \n",
              "\n",
              "              region_1           region_2         taster_name  \\\n",
              "0                 Etna                NaN       Kerin O’Keefe   \n",
              "1                  NaN                NaN          Roger Voss   \n",
              "2    Willamette Valley  Willamette Valley        Paul Gregutt   \n",
              "3  Lake Michigan Shore                NaN  Alexander Peartree   \n",
              "4    Willamette Valley  Willamette Valley        Paul Gregutt   \n",
              "\n",
              "  taster_twitter_handle                                              title  \\\n",
              "0          @kerinokeefe                  Nicosia 2013 Vulkà Bianco  (Etna)   \n",
              "1            @vossroger      Quinta dos Avidagos 2011 Avidagos Red (Douro)   \n",
              "2           @paulgwine       Rainstorm 2013 Pinot Gris (Willamette Valley)   \n",
              "3                   NaN  St. Julian 2013 Reserve Late Harvest Riesling ...   \n",
              "4           @paulgwine   Sweet Cheeks 2012 Vintner's Reserve Wild Child...   \n",
              "\n",
              "          variety               winery  \n",
              "0     White Blend              Nicosia  \n",
              "1  Portuguese Red  Quinta dos Avidagos  \n",
              "2      Pinot Gris            Rainstorm  \n",
              "3        Riesling           St. Julian  \n",
              "4      Pinot Noir         Sweet Cheeks  "
            ]
          },
          "execution_count": 14,
          "metadata": {},
          "output_type": "execute_result"
        }
      ]
    },
    {
      "cell_type": "code",
      "metadata": {
        "execution": {
          "iopub.execute_input": "2021-08-24T09:24:48.910297Z",
          "iopub.status.busy": "2021-08-24T09:24:48.894476Z",
          "iopub.status.idle": "2021-08-24T09:24:48.918289Z",
          "shell.execute_reply": "2021-08-24T09:24:48.917742Z",
          "shell.execute_reply.started": "2021-08-24T09:19:14.529406Z"
        },
        "papermill": {
          "duration": 0.062224,
          "end_time": "2021-08-24T09:24:48.918427",
          "exception": false,
          "start_time": "2021-08-24T09:24:48.856203",
          "status": "completed"
        },
        "tags": [],
        "id": "98055617",
        "outputId": "0d0ebef8-b3c7-40d0-a0b1-16bd10bdfb74"
      },
      "source": [
        "print(reviews.groupby('taster_name').points.max())\n",
        "      "
      ],
      "id": "98055617",
      "execution_count": null,
      "outputs": [
        {
          "name": "stdout",
          "output_type": "stream",
          "text": [
            "taster_name\n",
            "Alexander Peartree     91\n",
            "Anna Lee C. Iijima     98\n",
            "Anne Krebiehl MW       97\n",
            "Carrie Dykes           92\n",
            "Christina Pickard      93\n",
            "Fiona Adams            91\n",
            "Jeff Jenssen           97\n",
            "Jim Gordon             97\n",
            "Joe Czerwinski        100\n",
            "Kerin O’Keefe         100\n",
            "Lauren Buzzeo          95\n",
            "Matt Kettmann          97\n",
            "Michael Schachner      98\n",
            "Mike DeSimone          94\n",
            "Paul Gregutt          100\n",
            "Roger Voss            100\n",
            "Sean P. Sullivan       97\n",
            "Susan Kostrzewa        94\n",
            "Virginie Boone         99\n",
            "Name: points, dtype: int64\n"
          ]
        }
      ]
    },
    {
      "cell_type": "code",
      "metadata": {
        "execution": {
          "iopub.execute_input": "2021-08-24T09:24:48.997351Z",
          "iopub.status.busy": "2021-08-24T09:24:48.992983Z",
          "iopub.status.idle": "2021-08-24T09:24:49.017182Z",
          "shell.execute_reply": "2021-08-24T09:24:49.017805Z",
          "shell.execute_reply.started": "2021-08-24T09:18:31.149928Z"
        },
        "papermill": {
          "duration": 0.063967,
          "end_time": "2021-08-24T09:24:49.017978",
          "exception": false,
          "start_time": "2021-08-24T09:24:48.954011",
          "status": "completed"
        },
        "tags": [],
        "id": "175c6949",
        "outputId": "30537fe1-603a-4a7a-d391-5b214f62d920"
      },
      "source": [
        "reviewer_mean_ratings = reviews.groupby('taster_name').points.mean()\n",
        "\n",
        "# Check your answer\n",
        "q5.check()"
      ],
      "id": "175c6949",
      "execution_count": null,
      "outputs": [
        {
          "data": {
            "application/javascript": [
              "parent.postMessage({\"jupyterEvent\": \"custom.exercise_interaction\", \"data\": {\"outcomeType\": 1, \"valueTowardsCompletion\": 0.16666666666666666, \"interactionType\": 1, \"questionType\": 1, \"questionId\": \"5_ReviewerMeanRatings\", \"learnToolsVersion\": \"0.3.4\", \"failureMessage\": \"\", \"exceptionClass\": \"\", \"trace\": \"\"}}, \"*\")"
            ],
            "text/plain": [
              "<IPython.core.display.Javascript object>"
            ]
          },
          "metadata": {},
          "output_type": "display_data"
        },
        {
          "data": {
            "text/markdown": [
              "<span style=\"color:#33cc33\">Correct</span>"
            ],
            "text/plain": [
              "Correct"
            ]
          },
          "metadata": {},
          "output_type": "display_data"
        }
      ]
    },
    {
      "cell_type": "code",
      "metadata": {
        "execution": {
          "iopub.execute_input": "2021-08-24T09:24:49.095079Z",
          "iopub.status.busy": "2021-08-24T09:24:49.094349Z",
          "iopub.status.idle": "2021-08-24T09:24:49.102368Z",
          "shell.execute_reply": "2021-08-24T09:24:49.101668Z",
          "shell.execute_reply.started": "2021-08-24T09:18:14.060050Z"
        },
        "papermill": {
          "duration": 0.047244,
          "end_time": "2021-08-24T09:24:49.102517",
          "exception": false,
          "start_time": "2021-08-24T09:24:49.055273",
          "status": "completed"
        },
        "tags": [],
        "id": "947d9b0f",
        "outputId": "6727688e-4de8-463c-b2d3-8639d46eadf3"
      },
      "source": [
        "q5.hint()\n",
        "#q5.solution()"
      ],
      "id": "947d9b0f",
      "execution_count": null,
      "outputs": [
        {
          "data": {
            "application/javascript": [
              "parent.postMessage({\"jupyterEvent\": \"custom.exercise_interaction\", \"data\": {\"interactionType\": 2, \"questionType\": 1, \"questionId\": \"5_ReviewerMeanRatings\", \"learnToolsVersion\": \"0.3.4\", \"valueTowardsCompletion\": 0.0, \"failureMessage\": \"\", \"exceptionClass\": \"\", \"trace\": \"\", \"outcomeType\": 4}}, \"*\")"
            ],
            "text/plain": [
              "<IPython.core.display.Javascript object>"
            ]
          },
          "metadata": {},
          "output_type": "display_data"
        },
        {
          "data": {
            "text/markdown": [
              "<span style=\"color:#3366cc\">Hint:</span> Use `mean()`."
            ],
            "text/plain": [
              "Hint: Use `mean()`."
            ]
          },
          "metadata": {},
          "output_type": "display_data"
        }
      ]
    },
    {
      "cell_type": "markdown",
      "metadata": {
        "papermill": {
          "duration": 0.036782,
          "end_time": "2021-08-24T09:24:49.176865",
          "exception": false,
          "start_time": "2021-08-24T09:24:49.140083",
          "status": "completed"
        },
        "tags": [],
        "id": "8220482b"
      },
      "source": [
        "Are there significant differences in the average scores assigned by the various reviewers? Run the cell below to use the `describe()` method to see a summary of the range of values."
      ],
      "id": "8220482b"
    },
    {
      "cell_type": "code",
      "metadata": {
        "execution": {
          "iopub.execute_input": "2021-08-24T09:24:49.257278Z",
          "iopub.status.busy": "2021-08-24T09:24:49.256519Z",
          "iopub.status.idle": "2021-08-24T09:24:49.265908Z",
          "shell.execute_reply": "2021-08-24T09:24:49.266379Z",
          "shell.execute_reply.started": "2021-08-24T09:19:24.811224Z"
        },
        "papermill": {
          "duration": 0.052583,
          "end_time": "2021-08-24T09:24:49.266553",
          "exception": false,
          "start_time": "2021-08-24T09:24:49.213970",
          "status": "completed"
        },
        "tags": [],
        "id": "fccf9d1e",
        "outputId": "d5e7db84-fd6c-418f-f221-e09df0c02f84"
      },
      "source": [
        "reviewer_mean_ratings.describe()"
      ],
      "id": "fccf9d1e",
      "execution_count": null,
      "outputs": [
        {
          "data": {
            "text/plain": [
              "count    19.000000\n",
              "mean     88.233026\n",
              "std       1.243610\n",
              "min      85.855422\n",
              "25%      87.323501\n",
              "50%      88.536235\n",
              "75%      88.975256\n",
              "max      90.562551\n",
              "Name: points, dtype: float64"
            ]
          },
          "execution_count": 18,
          "metadata": {},
          "output_type": "execute_result"
        }
      ]
    },
    {
      "cell_type": "markdown",
      "metadata": {
        "papermill": {
          "duration": 0.037176,
          "end_time": "2021-08-24T09:24:49.340683",
          "exception": false,
          "start_time": "2021-08-24T09:24:49.303507",
          "status": "completed"
        },
        "tags": [],
        "id": "79ba87a3"
      },
      "source": [
        "## 6.\n",
        "What combination of countries and varieties are most common? Create a `Series` whose index is a `MultiIndex`of `{country, variety}` pairs. For example, a pinot noir produced in the US should map to `{\"US\", \"Pinot Noir\"}`. Sort the values in the `Series` in descending order based on wine count."
      ],
      "id": "79ba87a3"
    },
    {
      "cell_type": "code",
      "metadata": {
        "execution": {
          "iopub.execute_input": "2021-08-24T09:24:49.436261Z",
          "iopub.status.busy": "2021-08-24T09:24:49.435326Z",
          "iopub.status.idle": "2021-08-24T09:24:49.465611Z",
          "shell.execute_reply": "2021-08-24T09:24:49.466589Z",
          "shell.execute_reply.started": "2021-08-24T09:22:48.712588Z"
        },
        "papermill": {
          "duration": 0.089285,
          "end_time": "2021-08-24T09:24:49.466902",
          "exception": false,
          "start_time": "2021-08-24T09:24:49.377617",
          "status": "completed"
        },
        "tags": [],
        "id": "2e044577",
        "outputId": "fc9d5a2e-4c45-456c-f4cb-ca5a9d76a9da"
      },
      "source": [
        "print(reviews.groupby(['country','variety']).size().sort_values())"
      ],
      "id": "2e044577",
      "execution_count": null,
      "outputs": [
        {
          "name": "stdout",
          "output_type": "stream",
          "text": [
            "country    variety                 \n",
            "Argentina  Barbera                        1\n",
            "Italy      Moscato di Noto                1\n",
            "           Muscat                         1\n",
            "           Pignolo                        1\n",
            "Uruguay    Tempranillo-Tannat             1\n",
            "                                       ... \n",
            "Italy      Red Blend                   3624\n",
            "France     Bordeaux-style Red Blend    4725\n",
            "US         Chardonnay                  6801\n",
            "           Cabernet Sauvignon          7315\n",
            "           Pinot Noir                  9885\n",
            "Length: 1612, dtype: int64\n"
          ]
        }
      ]
    },
    {
      "cell_type": "code",
      "metadata": {
        "execution": {
          "iopub.execute_input": "2021-08-24T09:24:49.546448Z",
          "iopub.status.busy": "2021-08-24T09:24:49.545749Z",
          "iopub.status.idle": "2021-08-24T09:24:49.594783Z",
          "shell.execute_reply": "2021-08-24T09:24:49.594240Z",
          "shell.execute_reply.started": "2021-08-24T09:23:41.392515Z"
        },
        "papermill": {
          "duration": 0.08905,
          "end_time": "2021-08-24T09:24:49.594922",
          "exception": false,
          "start_time": "2021-08-24T09:24:49.505872",
          "status": "completed"
        },
        "tags": [],
        "id": "396d52e1",
        "outputId": "31c9bfae-9394-425a-e1c1-a3e345e7f0d7"
      },
      "source": [
        "country_variety_counts =reviews.groupby(['country','variety']).size().sort_values(ascending=False) # size 함수는 groupby된 열에 조합의 수를 알려주며 숫자로 나타냄\n",
        "\n",
        "# Check your answer\n",
        "q6.check()"
      ],
      "id": "396d52e1",
      "execution_count": null,
      "outputs": [
        {
          "data": {
            "application/javascript": [
              "parent.postMessage({\"jupyterEvent\": \"custom.exercise_interaction\", \"data\": {\"outcomeType\": 1, \"valueTowardsCompletion\": 0.16666666666666666, \"interactionType\": 1, \"questionType\": 1, \"questionId\": \"6_GroupbyCountryVariety\", \"learnToolsVersion\": \"0.3.4\", \"failureMessage\": \"\", \"exceptionClass\": \"\", \"trace\": \"\"}}, \"*\")"
            ],
            "text/plain": [
              "<IPython.core.display.Javascript object>"
            ]
          },
          "metadata": {},
          "output_type": "display_data"
        },
        {
          "data": {
            "text/markdown": [
              "<span style=\"color:#33cc33\">Correct</span>"
            ],
            "text/plain": [
              "Correct"
            ]
          },
          "metadata": {},
          "output_type": "display_data"
        }
      ]
    },
    {
      "cell_type": "code",
      "metadata": {
        "execution": {
          "iopub.execute_input": "2021-08-24T09:24:49.678089Z",
          "iopub.status.busy": "2021-08-24T09:24:49.677427Z",
          "iopub.status.idle": "2021-08-24T09:24:49.684105Z",
          "shell.execute_reply": "2021-08-24T09:24:49.684659Z",
          "shell.execute_reply.started": "2021-08-24T09:21:57.266462Z"
        },
        "papermill": {
          "duration": 0.051629,
          "end_time": "2021-08-24T09:24:49.684838",
          "exception": false,
          "start_time": "2021-08-24T09:24:49.633209",
          "status": "completed"
        },
        "tags": [],
        "id": "00175991",
        "outputId": "978cfcbe-b5c9-447d-f0ba-daf158a4cc48"
      },
      "source": [
        "q6.hint()\n",
        "q6.solution()"
      ],
      "id": "00175991",
      "execution_count": null,
      "outputs": [
        {
          "data": {
            "application/javascript": [
              "parent.postMessage({\"jupyterEvent\": \"custom.exercise_interaction\", \"data\": {\"interactionType\": 2, \"questionType\": 1, \"questionId\": \"6_GroupbyCountryVariety\", \"learnToolsVersion\": \"0.3.4\", \"valueTowardsCompletion\": 0.0, \"failureMessage\": \"\", \"exceptionClass\": \"\", \"trace\": \"\", \"outcomeType\": 4}}, \"*\")"
            ],
            "text/plain": [
              "<IPython.core.display.Javascript object>"
            ]
          },
          "metadata": {},
          "output_type": "display_data"
        },
        {
          "data": {
            "text/markdown": [
              "<span style=\"color:#3366cc\">Hint:</span> Use `groupby()`, and provide a list of columns to group by.  You may also find `size()` and `sort_values()` to be useful!"
            ],
            "text/plain": [
              "Hint: Use `groupby()`, and provide a list of columns to group by.  You may also find `size()` and `sort_values()` to be useful!"
            ]
          },
          "metadata": {},
          "output_type": "display_data"
        },
        {
          "data": {
            "application/javascript": [
              "parent.postMessage({\"jupyterEvent\": \"custom.exercise_interaction\", \"data\": {\"interactionType\": 3, \"questionType\": 1, \"questionId\": \"6_GroupbyCountryVariety\", \"learnToolsVersion\": \"0.3.4\", \"valueTowardsCompletion\": 0.0, \"failureMessage\": \"\", \"exceptionClass\": \"\", \"trace\": \"\", \"outcomeType\": 4}}, \"*\")"
            ],
            "text/plain": [
              "<IPython.core.display.Javascript object>"
            ]
          },
          "metadata": {},
          "output_type": "display_data"
        },
        {
          "data": {
            "text/markdown": [
              "<span style=\"color:#33cc99\">Solution:</span> \n",
              "```python\n",
              "country_variety_counts = reviews.groupby(['country', 'variety']).size().sort_values(ascending=False)\n",
              "```"
            ],
            "text/plain": [
              "Solution: \n",
              "```python\n",
              "country_variety_counts = reviews.groupby(['country', 'variety']).size().sort_values(ascending=False)\n",
              "```"
            ]
          },
          "metadata": {},
          "output_type": "display_data"
        }
      ]
    },
    {
      "cell_type": "markdown",
      "metadata": {
        "papermill": {
          "duration": 0.039702,
          "end_time": "2021-08-24T09:24:49.764616",
          "exception": false,
          "start_time": "2021-08-24T09:24:49.724914",
          "status": "completed"
        },
        "tags": [],
        "id": "f29e1f54"
      },
      "source": [
        "# Keep going\n",
        "\n",
        "Move on to the [**data types and missing data**](https://www.kaggle.com/residentmario/data-types-and-missing-values)."
      ],
      "id": "f29e1f54"
    },
    {
      "cell_type": "markdown",
      "metadata": {
        "papermill": {
          "duration": 0.039714,
          "end_time": "2021-08-24T09:24:49.844348",
          "exception": false,
          "start_time": "2021-08-24T09:24:49.804634",
          "status": "completed"
        },
        "tags": [],
        "id": "54184049"
      },
      "source": [
        "---\n",
        "\n",
        "\n",
        "\n",
        "\n",
        "*Have questions or comments? Visit the [Learn Discussion forum](https://www.kaggle.com/learn-forum/161299) to chat with other Learners.*"
      ],
      "id": "54184049"
    }
  ]
}