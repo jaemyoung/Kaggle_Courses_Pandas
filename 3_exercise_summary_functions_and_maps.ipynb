{
  "nbformat": 4,
  "nbformat_minor": 5,
  "metadata": {
    "kernelspec": {
      "display_name": "Python 3",
      "language": "python",
      "name": "python3"
    },
    "language_info": {
      "codemirror_mode": {
        "name": "ipython",
        "version": 3
      },
      "file_extension": ".py",
      "mimetype": "text/x-python",
      "name": "python",
      "nbconvert_exporter": "python",
      "pygments_lexer": "ipython3",
      "version": "3.7.10"
    },
    "papermill": {
      "default_parameters": {},
      "duration": 14.74976,
      "end_time": "2021-08-21T09:08:42.710478",
      "environment_variables": {},
      "exception": null,
      "input_path": "__notebook__.ipynb",
      "output_path": "__notebook__.ipynb",
      "parameters": {},
      "start_time": "2021-08-21T09:08:27.960718",
      "version": "2.3.3"
    },
    "colab": {
      "name": "3. exercise-summary-functions-and-maps.ipynb",
      "provenance": [],
      "include_colab_link": true
    }
  },
  "cells": [
    {
      "cell_type": "markdown",
      "metadata": {
        "id": "view-in-github",
        "colab_type": "text"
      },
      "source": [
        "<a href=\"https://colab.research.google.com/github/jaemyoung/Kaggle_Courses_Pandas/blob/main/3_exercise_summary_functions_and_maps.ipynb\" target=\"_parent\"><img src=\"https://colab.research.google.com/assets/colab-badge.svg\" alt=\"Open In Colab\"/></a>"
      ]
    },
    {
      "cell_type": "markdown",
      "metadata": {
        "papermill": {
          "duration": 0.014381,
          "end_time": "2021-08-21T09:08:34.929910",
          "exception": false,
          "start_time": "2021-08-21T09:08:34.915529",
          "status": "completed"
        },
        "tags": [],
        "id": "b5755cd3"
      },
      "source": [
        "**This notebook is an exercise in the [Pandas](https://www.kaggle.com/learn/pandas) course.  You can reference the tutorial at [this link](https://www.kaggle.com/residentmario/summary-functions-and-maps).**\n",
        "\n",
        "---\n"
      ],
      "id": "b5755cd3"
    },
    {
      "cell_type": "markdown",
      "metadata": {
        "papermill": {
          "duration": 0.012699,
          "end_time": "2021-08-21T09:08:34.957546",
          "exception": false,
          "start_time": "2021-08-21T09:08:34.944847",
          "status": "completed"
        },
        "tags": [],
        "id": "1bd2f01e"
      },
      "source": [
        "# Introduction\n",
        "\n",
        "Now you are ready to get a deeper understanding of your data.\n",
        "\n",
        "Run the following cell to load your data and some utility functions (including code to check your answers)."
      ],
      "id": "1bd2f01e"
    },
    {
      "cell_type": "code",
      "metadata": {
        "execution": {
          "iopub.execute_input": "2021-08-21T09:08:34.988124Z",
          "iopub.status.busy": "2021-08-21T09:08:34.987121Z",
          "iopub.status.idle": "2021-08-21T09:08:41.039756Z",
          "shell.execute_reply": "2021-08-21T09:08:41.040182Z",
          "shell.execute_reply.started": "2021-08-21T08:51:25.503448Z"
        },
        "papermill": {
          "duration": 6.069172,
          "end_time": "2021-08-21T09:08:41.040465",
          "exception": false,
          "start_time": "2021-08-21T09:08:34.971293",
          "status": "completed"
        },
        "tags": [],
        "id": "2a24cfba",
        "outputId": "df4c5a65-350a-4e02-a0e2-bd12e7d7ef7f"
      },
      "source": [
        "import pandas as pd\n",
        "pd.set_option(\"display.max_rows\", 5)\n",
        "reviews = pd.read_csv(\"../input/wine-reviews/winemag-data-130k-v2.csv\", index_col=0)\n",
        "\n",
        "from learntools.core import binder; binder.bind(globals())\n",
        "from learntools.pandas.summary_functions_and_maps import *\n",
        "print(\"Setup complete.\")\n",
        "\n",
        "reviews.head()"
      ],
      "id": "2a24cfba",
      "execution_count": null,
      "outputs": [
        {
          "name": "stdout",
          "output_type": "stream",
          "text": [
            "Setup complete.\n"
          ]
        },
        {
          "data": {
            "text/html": [
              "<div>\n",
              "<style scoped>\n",
              "    .dataframe tbody tr th:only-of-type {\n",
              "        vertical-align: middle;\n",
              "    }\n",
              "\n",
              "    .dataframe tbody tr th {\n",
              "        vertical-align: top;\n",
              "    }\n",
              "\n",
              "    .dataframe thead th {\n",
              "        text-align: right;\n",
              "    }\n",
              "</style>\n",
              "<table border=\"1\" class=\"dataframe\">\n",
              "  <thead>\n",
              "    <tr style=\"text-align: right;\">\n",
              "      <th></th>\n",
              "      <th>country</th>\n",
              "      <th>description</th>\n",
              "      <th>designation</th>\n",
              "      <th>points</th>\n",
              "      <th>price</th>\n",
              "      <th>province</th>\n",
              "      <th>region_1</th>\n",
              "      <th>region_2</th>\n",
              "      <th>taster_name</th>\n",
              "      <th>taster_twitter_handle</th>\n",
              "      <th>title</th>\n",
              "      <th>variety</th>\n",
              "      <th>winery</th>\n",
              "    </tr>\n",
              "  </thead>\n",
              "  <tbody>\n",
              "    <tr>\n",
              "      <th>0</th>\n",
              "      <td>Italy</td>\n",
              "      <td>Aromas include tropical fruit, broom, brimston...</td>\n",
              "      <td>Vulkà Bianco</td>\n",
              "      <td>87</td>\n",
              "      <td>NaN</td>\n",
              "      <td>Sicily &amp; Sardinia</td>\n",
              "      <td>Etna</td>\n",
              "      <td>NaN</td>\n",
              "      <td>Kerin O’Keefe</td>\n",
              "      <td>@kerinokeefe</td>\n",
              "      <td>Nicosia 2013 Vulkà Bianco  (Etna)</td>\n",
              "      <td>White Blend</td>\n",
              "      <td>Nicosia</td>\n",
              "    </tr>\n",
              "    <tr>\n",
              "      <th>1</th>\n",
              "      <td>Portugal</td>\n",
              "      <td>This is ripe and fruity, a wine that is smooth...</td>\n",
              "      <td>Avidagos</td>\n",
              "      <td>87</td>\n",
              "      <td>15.0</td>\n",
              "      <td>Douro</td>\n",
              "      <td>NaN</td>\n",
              "      <td>NaN</td>\n",
              "      <td>Roger Voss</td>\n",
              "      <td>@vossroger</td>\n",
              "      <td>Quinta dos Avidagos 2011 Avidagos Red (Douro)</td>\n",
              "      <td>Portuguese Red</td>\n",
              "      <td>Quinta dos Avidagos</td>\n",
              "    </tr>\n",
              "    <tr>\n",
              "      <th>2</th>\n",
              "      <td>US</td>\n",
              "      <td>Tart and snappy, the flavors of lime flesh and...</td>\n",
              "      <td>NaN</td>\n",
              "      <td>87</td>\n",
              "      <td>14.0</td>\n",
              "      <td>Oregon</td>\n",
              "      <td>Willamette Valley</td>\n",
              "      <td>Willamette Valley</td>\n",
              "      <td>Paul Gregutt</td>\n",
              "      <td>@paulgwine</td>\n",
              "      <td>Rainstorm 2013 Pinot Gris (Willamette Valley)</td>\n",
              "      <td>Pinot Gris</td>\n",
              "      <td>Rainstorm</td>\n",
              "    </tr>\n",
              "    <tr>\n",
              "      <th>3</th>\n",
              "      <td>US</td>\n",
              "      <td>Pineapple rind, lemon pith and orange blossom ...</td>\n",
              "      <td>Reserve Late Harvest</td>\n",
              "      <td>87</td>\n",
              "      <td>13.0</td>\n",
              "      <td>Michigan</td>\n",
              "      <td>Lake Michigan Shore</td>\n",
              "      <td>NaN</td>\n",
              "      <td>Alexander Peartree</td>\n",
              "      <td>NaN</td>\n",
              "      <td>St. Julian 2013 Reserve Late Harvest Riesling ...</td>\n",
              "      <td>Riesling</td>\n",
              "      <td>St. Julian</td>\n",
              "    </tr>\n",
              "    <tr>\n",
              "      <th>4</th>\n",
              "      <td>US</td>\n",
              "      <td>Much like the regular bottling from 2012, this...</td>\n",
              "      <td>Vintner's Reserve Wild Child Block</td>\n",
              "      <td>87</td>\n",
              "      <td>65.0</td>\n",
              "      <td>Oregon</td>\n",
              "      <td>Willamette Valley</td>\n",
              "      <td>Willamette Valley</td>\n",
              "      <td>Paul Gregutt</td>\n",
              "      <td>@paulgwine</td>\n",
              "      <td>Sweet Cheeks 2012 Vintner's Reserve Wild Child...</td>\n",
              "      <td>Pinot Noir</td>\n",
              "      <td>Sweet Cheeks</td>\n",
              "    </tr>\n",
              "  </tbody>\n",
              "</table>\n",
              "</div>"
            ],
            "text/plain": [
              "    country                                        description  \\\n",
              "0     Italy  Aromas include tropical fruit, broom, brimston...   \n",
              "1  Portugal  This is ripe and fruity, a wine that is smooth...   \n",
              "2        US  Tart and snappy, the flavors of lime flesh and...   \n",
              "3        US  Pineapple rind, lemon pith and orange blossom ...   \n",
              "4        US  Much like the regular bottling from 2012, this...   \n",
              "\n",
              "                          designation  points  price           province  \\\n",
              "0                        Vulkà Bianco      87    NaN  Sicily & Sardinia   \n",
              "1                            Avidagos      87   15.0              Douro   \n",
              "2                                 NaN      87   14.0             Oregon   \n",
              "3                Reserve Late Harvest      87   13.0           Michigan   \n",
              "4  Vintner's Reserve Wild Child Block      87   65.0             Oregon   \n",
              "\n",
              "              region_1           region_2         taster_name  \\\n",
              "0                 Etna                NaN       Kerin O’Keefe   \n",
              "1                  NaN                NaN          Roger Voss   \n",
              "2    Willamette Valley  Willamette Valley        Paul Gregutt   \n",
              "3  Lake Michigan Shore                NaN  Alexander Peartree   \n",
              "4    Willamette Valley  Willamette Valley        Paul Gregutt   \n",
              "\n",
              "  taster_twitter_handle                                              title  \\\n",
              "0          @kerinokeefe                  Nicosia 2013 Vulkà Bianco  (Etna)   \n",
              "1            @vossroger      Quinta dos Avidagos 2011 Avidagos Red (Douro)   \n",
              "2           @paulgwine       Rainstorm 2013 Pinot Gris (Willamette Valley)   \n",
              "3                   NaN  St. Julian 2013 Reserve Late Harvest Riesling ...   \n",
              "4           @paulgwine   Sweet Cheeks 2012 Vintner's Reserve Wild Child...   \n",
              "\n",
              "          variety               winery  \n",
              "0     White Blend              Nicosia  \n",
              "1  Portuguese Red  Quinta dos Avidagos  \n",
              "2      Pinot Gris            Rainstorm  \n",
              "3        Riesling           St. Julian  \n",
              "4      Pinot Noir         Sweet Cheeks  "
            ]
          },
          "execution_count": 1,
          "metadata": {},
          "output_type": "execute_result"
        }
      ]
    },
    {
      "cell_type": "markdown",
      "metadata": {
        "papermill": {
          "duration": 0.01376,
          "end_time": "2021-08-21T09:08:41.068701",
          "exception": false,
          "start_time": "2021-08-21T09:08:41.054941",
          "status": "completed"
        },
        "tags": [],
        "id": "4966b16a"
      },
      "source": [
        "# Exercises"
      ],
      "id": "4966b16a"
    },
    {
      "cell_type": "markdown",
      "metadata": {
        "papermill": {
          "duration": 0.013734,
          "end_time": "2021-08-21T09:08:41.096489",
          "exception": false,
          "start_time": "2021-08-21T09:08:41.082755",
          "status": "completed"
        },
        "tags": [],
        "id": "5b954de8"
      },
      "source": [
        "## 1.\n",
        "\n",
        "What is the median of the `points` column in the `reviews` DataFrame?"
      ],
      "id": "5b954de8"
    },
    {
      "cell_type": "code",
      "metadata": {
        "execution": {
          "iopub.execute_input": "2021-08-21T09:08:41.129146Z",
          "iopub.status.busy": "2021-08-21T09:08:41.128608Z",
          "iopub.status.idle": "2021-08-21T09:08:41.133923Z",
          "shell.execute_reply": "2021-08-21T09:08:41.134484Z",
          "shell.execute_reply.started": "2021-08-21T08:51:59.203902Z"
        },
        "papermill": {
          "duration": 0.023979,
          "end_time": "2021-08-21T09:08:41.134637",
          "exception": false,
          "start_time": "2021-08-21T09:08:41.110658",
          "status": "completed"
        },
        "tags": [],
        "id": "0bbf49dd",
        "outputId": "ac5c658c-6fc6-4128-e092-9edb369ebe2a"
      },
      "source": [
        "median_points = reviews['points'].median()\n",
        "\n",
        "\n",
        "# Check your answer\n",
        "q1.check()"
      ],
      "id": "0bbf49dd",
      "execution_count": null,
      "outputs": [
        {
          "data": {
            "application/javascript": [
              "parent.postMessage({\"jupyterEvent\": \"custom.exercise_interaction\", \"data\": {\"outcomeType\": 1, \"valueTowardsCompletion\": 0.14285714285714285, \"interactionType\": 1, \"questionType\": 1, \"questionId\": \"1_MedianPoints\", \"learnToolsVersion\": \"0.3.4\", \"failureMessage\": \"\", \"exceptionClass\": \"\", \"trace\": \"\"}}, \"*\")"
            ],
            "text/plain": [
              "<IPython.core.display.Javascript object>"
            ]
          },
          "metadata": {},
          "output_type": "display_data"
        },
        {
          "data": {
            "text/markdown": [
              "<span style=\"color:#33cc33\">Correct</span>"
            ],
            "text/plain": [
              "Correct"
            ]
          },
          "metadata": {},
          "output_type": "display_data"
        }
      ]
    },
    {
      "cell_type": "code",
      "metadata": {
        "execution": {
          "iopub.execute_input": "2021-08-21T09:08:41.167559Z",
          "iopub.status.busy": "2021-08-21T09:08:41.166639Z",
          "iopub.status.idle": "2021-08-21T09:08:41.169901Z",
          "shell.execute_reply": "2021-08-21T09:08:41.170393Z"
        },
        "papermill": {
          "duration": 0.0211,
          "end_time": "2021-08-21T09:08:41.170542",
          "exception": false,
          "start_time": "2021-08-21T09:08:41.149442",
          "status": "completed"
        },
        "tags": [],
        "id": "f06c4537"
      },
      "source": [
        "#q1.hint()\n",
        "#q1.solution()"
      ],
      "id": "f06c4537",
      "execution_count": null,
      "outputs": []
    },
    {
      "cell_type": "markdown",
      "metadata": {
        "papermill": {
          "duration": 0.014995,
          "end_time": "2021-08-21T09:08:41.200748",
          "exception": false,
          "start_time": "2021-08-21T09:08:41.185753",
          "status": "completed"
        },
        "tags": [],
        "id": "b9679134"
      },
      "source": [
        "## 2. \n",
        "What countries are represented in the dataset? (Your answer should not include any duplicates.)"
      ],
      "id": "b9679134"
    },
    {
      "cell_type": "code",
      "metadata": {
        "execution": {
          "iopub.execute_input": "2021-08-21T09:08:41.234873Z",
          "iopub.status.busy": "2021-08-21T09:08:41.233968Z",
          "iopub.status.idle": "2021-08-21T09:08:41.249826Z",
          "shell.execute_reply": "2021-08-21T09:08:41.250214Z",
          "shell.execute_reply.started": "2021-08-21T08:54:57.908038Z"
        },
        "papermill": {
          "duration": 0.034361,
          "end_time": "2021-08-21T09:08:41.250391",
          "exception": false,
          "start_time": "2021-08-21T09:08:41.216030",
          "status": "completed"
        },
        "tags": [],
        "id": "de4d2266",
        "outputId": "d60d54bf-e2af-49c1-8fa1-fd6e322615f9"
      },
      "source": [
        "countries = reviews['country'].unique() #unique 함수는 해당 열에 있는 data의 종류(타입아님)를 알려줌\n",
        "print(countries)\n",
        "# Check your answer\n",
        "q2.check()"
      ],
      "id": "de4d2266",
      "execution_count": null,
      "outputs": [
        {
          "name": "stdout",
          "output_type": "stream",
          "text": [
            "['Italy' 'Portugal' 'US' 'Spain' 'France' 'Germany' 'Argentina' 'Chile'\n",
            " 'Australia' 'Austria' 'South Africa' 'New Zealand' 'Israel' 'Hungary'\n",
            " 'Greece' 'Romania' 'Mexico' 'Canada' nan 'Turkey' 'Czech Republic'\n",
            " 'Slovenia' 'Luxembourg' 'Croatia' 'Georgia' 'Uruguay' 'England' 'Lebanon'\n",
            " 'Serbia' 'Brazil' 'Moldova' 'Morocco' 'Peru' 'India' 'Bulgaria' 'Cyprus'\n",
            " 'Armenia' 'Switzerland' 'Bosnia and Herzegovina' 'Ukraine' 'Slovakia'\n",
            " 'Macedonia' 'China' 'Egypt']\n"
          ]
        },
        {
          "data": {
            "application/javascript": [
              "parent.postMessage({\"jupyterEvent\": \"custom.exercise_interaction\", \"data\": {\"outcomeType\": 1, \"valueTowardsCompletion\": 0.14285714285714285, \"interactionType\": 1, \"questionType\": 2, \"questionId\": \"2_UniqueCountries\", \"learnToolsVersion\": \"0.3.4\", \"failureMessage\": \"\", \"exceptionClass\": \"\", \"trace\": \"\"}}, \"*\")"
            ],
            "text/plain": [
              "<IPython.core.display.Javascript object>"
            ]
          },
          "metadata": {},
          "output_type": "display_data"
        },
        {
          "data": {
            "text/markdown": [
              "<span style=\"color:#33cc33\">Correct</span>"
            ],
            "text/plain": [
              "Correct"
            ]
          },
          "metadata": {},
          "output_type": "display_data"
        }
      ]
    },
    {
      "cell_type": "code",
      "metadata": {
        "execution": {
          "iopub.execute_input": "2021-08-21T09:08:41.286114Z",
          "iopub.status.busy": "2021-08-21T09:08:41.285561Z",
          "iopub.status.idle": "2021-08-21T09:08:41.288516Z",
          "shell.execute_reply": "2021-08-21T09:08:41.287921Z"
        },
        "papermill": {
          "duration": 0.022314,
          "end_time": "2021-08-21T09:08:41.288654",
          "exception": false,
          "start_time": "2021-08-21T09:08:41.266340",
          "status": "completed"
        },
        "tags": [],
        "id": "555d380f"
      },
      "source": [
        "#q2.hint()\n",
        "#q2.solution()"
      ],
      "id": "555d380f",
      "execution_count": null,
      "outputs": []
    },
    {
      "cell_type": "markdown",
      "metadata": {
        "papermill": {
          "duration": 0.015823,
          "end_time": "2021-08-21T09:08:41.320644",
          "exception": false,
          "start_time": "2021-08-21T09:08:41.304821",
          "status": "completed"
        },
        "tags": [],
        "id": "8016f511"
      },
      "source": [
        "## 3.\n",
        "How often does each country appear in the dataset? Create a Series `reviews_per_country` mapping countries to the count of reviews of wines from that country."
      ],
      "id": "8016f511"
    },
    {
      "cell_type": "code",
      "metadata": {
        "execution": {
          "iopub.execute_input": "2021-08-21T09:08:41.372726Z",
          "iopub.status.busy": "2021-08-21T09:08:41.371996Z",
          "iopub.status.idle": "2021-08-21T09:08:41.377079Z",
          "shell.execute_reply": "2021-08-21T09:08:41.377552Z",
          "shell.execute_reply.started": "2021-08-21T08:55:44.606356Z"
        },
        "papermill": {
          "duration": 0.040904,
          "end_time": "2021-08-21T09:08:41.377711",
          "exception": false,
          "start_time": "2021-08-21T09:08:41.336807",
          "status": "completed"
        },
        "tags": [],
        "id": "2b13dabe",
        "outputId": "a65af327-1ee0-4922-c308-6098e5eff2fa"
      },
      "source": [
        "reviews_per_country = reviews['country'].value_counts() # value)counts 함수는 해당열에 데이터종류를 count 해줌\n",
        "print(reviews_per_country)\n",
        "# Check your answer\n",
        "q3.check()"
      ],
      "id": "2b13dabe",
      "execution_count": null,
      "outputs": [
        {
          "name": "stdout",
          "output_type": "stream",
          "text": [
            "US          54504\n",
            "France      22093\n",
            "            ...  \n",
            "Slovakia        1\n",
            "China           1\n",
            "Name: country, Length: 43, dtype: int64\n"
          ]
        },
        {
          "data": {
            "application/javascript": [
              "parent.postMessage({\"jupyterEvent\": \"custom.exercise_interaction\", \"data\": {\"outcomeType\": 1, \"valueTowardsCompletion\": 0.14285714285714285, \"interactionType\": 1, \"questionType\": 1, \"questionId\": \"3_ReviewsPerCountry\", \"learnToolsVersion\": \"0.3.4\", \"failureMessage\": \"\", \"exceptionClass\": \"\", \"trace\": \"\"}}, \"*\")"
            ],
            "text/plain": [
              "<IPython.core.display.Javascript object>"
            ]
          },
          "metadata": {},
          "output_type": "display_data"
        },
        {
          "data": {
            "text/markdown": [
              "<span style=\"color:#33cc33\">Correct</span>"
            ],
            "text/plain": [
              "Correct"
            ]
          },
          "metadata": {},
          "output_type": "display_data"
        }
      ]
    },
    {
      "cell_type": "code",
      "metadata": {
        "execution": {
          "iopub.execute_input": "2021-08-21T09:08:41.415329Z",
          "iopub.status.busy": "2021-08-21T09:08:41.414426Z",
          "iopub.status.idle": "2021-08-21T09:08:41.417503Z",
          "shell.execute_reply": "2021-08-21T09:08:41.417978Z"
        },
        "papermill": {
          "duration": 0.023264,
          "end_time": "2021-08-21T09:08:41.418128",
          "exception": false,
          "start_time": "2021-08-21T09:08:41.394864",
          "status": "completed"
        },
        "tags": [],
        "id": "e56f73f2"
      },
      "source": [
        "#q3.hint()\n",
        "#q3.solution()"
      ],
      "id": "e56f73f2",
      "execution_count": null,
      "outputs": []
    },
    {
      "cell_type": "markdown",
      "metadata": {
        "papermill": {
          "duration": 0.016833,
          "end_time": "2021-08-21T09:08:41.451863",
          "exception": false,
          "start_time": "2021-08-21T09:08:41.435030",
          "status": "completed"
        },
        "tags": [],
        "id": "21ec89e4"
      },
      "source": [
        "## 4.\n",
        "Create variable `centered_price` containing a version of the `price` column with the mean price subtracted.\n",
        "\n",
        "(Note: this 'centering' transformation is a common preprocessing step before applying various machine learning algorithms.) "
      ],
      "id": "21ec89e4"
    },
    {
      "cell_type": "code",
      "metadata": {
        "execution": {
          "iopub.execute_input": "2021-08-21T09:08:41.489459Z",
          "iopub.status.busy": "2021-08-21T09:08:41.488558Z",
          "iopub.status.idle": "2021-08-21T09:08:41.498299Z",
          "shell.execute_reply": "2021-08-21T09:08:41.497796Z",
          "shell.execute_reply.started": "2021-08-21T08:59:38.101862Z"
        },
        "papermill": {
          "duration": 0.029475,
          "end_time": "2021-08-21T09:08:41.498431",
          "exception": false,
          "start_time": "2021-08-21T09:08:41.468956",
          "status": "completed"
        },
        "tags": [],
        "id": "feec37ce",
        "outputId": "fef76f89-f649-4e03-ebcc-d42d6e8d3bbd"
      },
      "source": [
        "centered_price = reviews['price']- reviews['price'].mean() # 원래 price 열에서 평균치 price를 빼준 값을 센터링price로 정의\n",
        "\n",
        "# Check your answer\n",
        "q4.check()"
      ],
      "id": "feec37ce",
      "execution_count": null,
      "outputs": [
        {
          "data": {
            "application/javascript": [
              "parent.postMessage({\"jupyterEvent\": \"custom.exercise_interaction\", \"data\": {\"outcomeType\": 1, \"valueTowardsCompletion\": 0.14285714285714285, \"interactionType\": 1, \"questionType\": 1, \"questionId\": \"4_CenteredPrice\", \"learnToolsVersion\": \"0.3.4\", \"failureMessage\": \"\", \"exceptionClass\": \"\", \"trace\": \"\"}}, \"*\")"
            ],
            "text/plain": [
              "<IPython.core.display.Javascript object>"
            ]
          },
          "metadata": {},
          "output_type": "display_data"
        },
        {
          "data": {
            "text/markdown": [
              "<span style=\"color:#33cc33\">Correct</span>"
            ],
            "text/plain": [
              "Correct"
            ]
          },
          "metadata": {},
          "output_type": "display_data"
        }
      ]
    },
    {
      "cell_type": "code",
      "metadata": {
        "execution": {
          "iopub.execute_input": "2021-08-21T09:08:41.538145Z",
          "iopub.status.busy": "2021-08-21T09:08:41.537577Z",
          "iopub.status.idle": "2021-08-21T09:08:41.539338Z",
          "shell.execute_reply": "2021-08-21T09:08:41.539757Z"
        },
        "papermill": {
          "duration": 0.023587,
          "end_time": "2021-08-21T09:08:41.539918",
          "exception": false,
          "start_time": "2021-08-21T09:08:41.516331",
          "status": "completed"
        },
        "tags": [],
        "id": "ef49cff8"
      },
      "source": [
        "#q4.hint()\n",
        "#q4.solution()"
      ],
      "id": "ef49cff8",
      "execution_count": null,
      "outputs": []
    },
    {
      "cell_type": "markdown",
      "metadata": {
        "papermill": {
          "duration": 0.017679,
          "end_time": "2021-08-21T09:08:41.575702",
          "exception": false,
          "start_time": "2021-08-21T09:08:41.558023",
          "status": "completed"
        },
        "tags": [],
        "id": "8ff60aae"
      },
      "source": [
        "## 5.\n",
        "I'm an economical wine buyer. Which wine is the \"best bargain\"? Create a variable `bargain_wine` with the title of the wine with the highest points-to-price ratio in the dataset."
      ],
      "id": "8ff60aae"
    },
    {
      "cell_type": "code",
      "metadata": {
        "execution": {
          "iopub.execute_input": "2021-08-21T09:08:41.614242Z",
          "iopub.status.busy": "2021-08-21T09:08:41.613687Z",
          "iopub.status.idle": "2021-08-21T09:08:41.619555Z",
          "shell.execute_reply": "2021-08-21T09:08:41.619941Z",
          "shell.execute_reply.started": "2021-08-21T09:06:26.679049Z"
        },
        "papermill": {
          "duration": 0.026341,
          "end_time": "2021-08-21T09:08:41.620091",
          "exception": false,
          "start_time": "2021-08-21T09:08:41.593750",
          "status": "completed"
        },
        "tags": [],
        "id": "7afe4186",
        "outputId": "619bef49-19cb-4e16-b022-469ae07503e0"
      },
      "source": [
        "bargain =reviews['points']/reviews['price'] \n",
        "print(bargain.max())"
      ],
      "id": "7afe4186",
      "execution_count": null,
      "outputs": [
        {
          "name": "stdout",
          "output_type": "stream",
          "text": [
            "21.5\n"
          ]
        }
      ]
    },
    {
      "cell_type": "code",
      "metadata": {
        "execution": {
          "iopub.execute_input": "2021-08-21T09:08:41.661744Z",
          "iopub.status.busy": "2021-08-21T09:08:41.661131Z",
          "iopub.status.idle": "2021-08-21T09:08:41.671257Z",
          "shell.execute_reply": "2021-08-21T09:08:41.670843Z",
          "shell.execute_reply.started": "2021-08-21T09:07:22.931532Z"
        },
        "papermill": {
          "duration": 0.032866,
          "end_time": "2021-08-21T09:08:41.671400",
          "exception": false,
          "start_time": "2021-08-21T09:08:41.638534",
          "status": "completed"
        },
        "tags": [],
        "id": "8e219ef0",
        "outputId": "aaa85cb6-8787-443e-9cf3-25be6b470689"
      },
      "source": [
        "bargain_idx = (reviews.points / reviews.price).idxmax() # idx값중에 가장 높은거\n",
        "bargain_wine = reviews.loc[bargain_idx, 'title'] # loc 사용하여 title 구하기\n",
        "\n",
        "# Check your answer\n",
        "q5.check()"
      ],
      "id": "8e219ef0",
      "execution_count": null,
      "outputs": [
        {
          "data": {
            "application/javascript": [
              "parent.postMessage({\"jupyterEvent\": \"custom.exercise_interaction\", \"data\": {\"outcomeType\": 1, \"valueTowardsCompletion\": 0.14285714285714285, \"interactionType\": 1, \"questionType\": 2, \"questionId\": \"5_BargainWine\", \"learnToolsVersion\": \"0.3.4\", \"failureMessage\": \"\", \"exceptionClass\": \"\", \"trace\": \"\"}}, \"*\")"
            ],
            "text/plain": [
              "<IPython.core.display.Javascript object>"
            ]
          },
          "metadata": {},
          "output_type": "display_data"
        },
        {
          "data": {
            "text/markdown": [
              "<span style=\"color:#33cc33\">Correct</span>"
            ],
            "text/plain": [
              "Correct"
            ]
          },
          "metadata": {},
          "output_type": "display_data"
        }
      ]
    },
    {
      "cell_type": "code",
      "metadata": {
        "execution": {
          "iopub.execute_input": "2021-08-21T09:08:41.715017Z",
          "iopub.status.busy": "2021-08-21T09:08:41.714454Z",
          "iopub.status.idle": "2021-08-21T09:08:41.718260Z",
          "shell.execute_reply": "2021-08-21T09:08:41.718816Z",
          "shell.execute_reply.started": "2021-08-21T09:07:27.517860Z"
        },
        "papermill": {
          "duration": 0.028561,
          "end_time": "2021-08-21T09:08:41.718969",
          "exception": false,
          "start_time": "2021-08-21T09:08:41.690408",
          "status": "completed"
        },
        "tags": [],
        "id": "3467ed07",
        "outputId": "91bcd389-c442-4044-edfd-b80ff03a6a8d"
      },
      "source": [
        "#q5.hint()\n",
        "q5.solution()"
      ],
      "id": "3467ed07",
      "execution_count": null,
      "outputs": [
        {
          "data": {
            "application/javascript": [
              "parent.postMessage({\"jupyterEvent\": \"custom.exercise_interaction\", \"data\": {\"interactionType\": 3, \"questionType\": 2, \"questionId\": \"5_BargainWine\", \"learnToolsVersion\": \"0.3.4\", \"valueTowardsCompletion\": 0.0, \"failureMessage\": \"\", \"exceptionClass\": \"\", \"trace\": \"\", \"outcomeType\": 4}}, \"*\")"
            ],
            "text/plain": [
              "<IPython.core.display.Javascript object>"
            ]
          },
          "metadata": {},
          "output_type": "display_data"
        },
        {
          "data": {
            "text/markdown": [
              "<span style=\"color:#33cc99\">Solution:</span> \n",
              "```python\n",
              "bargain_idx = (reviews.points / reviews.price).idxmax()\n",
              "bargain_wine = reviews.loc[bargain_idx, 'title']\n",
              "```"
            ],
            "text/plain": [
              "Solution: \n",
              "```python\n",
              "bargain_idx = (reviews.points / reviews.price).idxmax()\n",
              "bargain_wine = reviews.loc[bargain_idx, 'title']\n",
              "```"
            ]
          },
          "metadata": {},
          "output_type": "display_data"
        }
      ]
    },
    {
      "cell_type": "markdown",
      "metadata": {
        "papermill": {
          "duration": 0.019144,
          "end_time": "2021-08-21T09:08:41.758435",
          "exception": false,
          "start_time": "2021-08-21T09:08:41.739291",
          "status": "completed"
        },
        "tags": [],
        "id": "6624df09"
      },
      "source": [
        "## 6.\n",
        "There are only so many words you can use when describing a bottle of wine. Is a wine more likely to be \"tropical\" or \"fruity\"? Create a Series `descriptor_counts` counting how many times each of these two words appears in the `description` column in the dataset."
      ],
      "id": "6624df09"
    },
    {
      "cell_type": "code",
      "metadata": {
        "execution": {
          "iopub.execute_input": "2021-08-21T09:08:41.800121Z",
          "iopub.status.busy": "2021-08-21T09:08:41.799591Z",
          "iopub.status.idle": "2021-08-21T09:08:41.806104Z",
          "shell.execute_reply": "2021-08-21T09:08:41.805687Z"
        },
        "papermill": {
          "duration": 0.028259,
          "end_time": "2021-08-21T09:08:41.806231",
          "exception": false,
          "start_time": "2021-08-21T09:08:41.777972",
          "status": "completed"
        },
        "tags": [],
        "id": "b56667bb",
        "outputId": "36c2fec7-0802-4de1-ed39-4e4e0cea575b"
      },
      "source": [
        "descriptor_counts = ____\n",
        "\n",
        "# Check your answer\n",
        "q6.check()"
      ],
      "id": "b56667bb",
      "execution_count": null,
      "outputs": [
        {
          "data": {
            "application/javascript": [
              "parent.postMessage({\"jupyterEvent\": \"custom.exercise_interaction\", \"data\": {\"outcomeType\": 4, \"interactionType\": 1, \"questionType\": 1, \"questionId\": \"6_DescriptorCounts\", \"learnToolsVersion\": \"0.3.4\", \"valueTowardsCompletion\": 0.0, \"failureMessage\": \"\", \"exceptionClass\": \"\", \"trace\": \"\"}}, \"*\")"
            ],
            "text/plain": [
              "<IPython.core.display.Javascript object>"
            ]
          },
          "metadata": {},
          "output_type": "display_data"
        },
        {
          "data": {
            "text/markdown": [
              "<span style=\"color:#ccaa33\">Check:</span> When you've updated the starter code, `check()` will tell you whether your code is correct. You need to update the code that creates variable `descriptor_counts`"
            ],
            "text/plain": [
              "Check: When you've updated the starter code, `check()` will tell you whether your code is correct. You need to update the code that creates variable `descriptor_counts`"
            ]
          },
          "metadata": {},
          "output_type": "display_data"
        }
      ]
    },
    {
      "cell_type": "code",
      "metadata": {
        "execution": {
          "iopub.execute_input": "2021-08-21T09:08:41.850978Z",
          "iopub.status.busy": "2021-08-21T09:08:41.850420Z",
          "iopub.status.idle": "2021-08-21T09:08:41.852850Z",
          "shell.execute_reply": "2021-08-21T09:08:41.852401Z"
        },
        "papermill": {
          "duration": 0.026059,
          "end_time": "2021-08-21T09:08:41.852969",
          "exception": false,
          "start_time": "2021-08-21T09:08:41.826910",
          "status": "completed"
        },
        "tags": [],
        "id": "c0bbe2d1"
      },
      "source": [
        "#q6.hint()\n",
        "#q6.solution()"
      ],
      "id": "c0bbe2d1",
      "execution_count": null,
      "outputs": []
    },
    {
      "cell_type": "markdown",
      "metadata": {
        "papermill": {
          "duration": 0.02044,
          "end_time": "2021-08-21T09:08:41.894256",
          "exception": false,
          "start_time": "2021-08-21T09:08:41.873816",
          "status": "completed"
        },
        "tags": [],
        "id": "0957788e"
      },
      "source": [
        "## 7.\n",
        "We'd like to host these wine reviews on our website, but a rating system ranging from 80 to 100 points is too hard to understand - we'd like to translate them into simple star ratings. A score of 95 or higher counts as 3 stars, a score of at least 85 but less than 95 is 2 stars. Any other score is 1 star.\n",
        "\n",
        "Also, the Canadian Vintners Association bought a lot of ads on the site, so any wines from Canada should automatically get 3 stars, regardless of points.\n",
        "\n",
        "Create a series `star_ratings` with the number of stars corresponding to each review in the dataset."
      ],
      "id": "0957788e"
    },
    {
      "cell_type": "code",
      "metadata": {
        "execution": {
          "iopub.execute_input": "2021-08-21T09:08:41.940194Z",
          "iopub.status.busy": "2021-08-21T09:08:41.939656Z",
          "iopub.status.idle": "2021-08-21T09:08:41.944153Z",
          "shell.execute_reply": "2021-08-21T09:08:41.943744Z"
        },
        "papermill": {
          "duration": 0.0295,
          "end_time": "2021-08-21T09:08:41.944302",
          "exception": false,
          "start_time": "2021-08-21T09:08:41.914802",
          "status": "completed"
        },
        "tags": [],
        "id": "7909a852",
        "outputId": "d06fd151-10b7-4130-abd1-c3dea6e1d897"
      },
      "source": [
        "star_ratings = ____\n",
        "\n",
        "# Check your answer\n",
        "q7.check()"
      ],
      "id": "7909a852",
      "execution_count": null,
      "outputs": [
        {
          "data": {
            "application/javascript": [
              "parent.postMessage({\"jupyterEvent\": \"custom.exercise_interaction\", \"data\": {\"outcomeType\": 4, \"interactionType\": 1, \"questionType\": 1, \"questionId\": \"7_StarRatings\", \"learnToolsVersion\": \"0.3.4\", \"valueTowardsCompletion\": 0.0, \"failureMessage\": \"\", \"exceptionClass\": \"\", \"trace\": \"\"}}, \"*\")"
            ],
            "text/plain": [
              "<IPython.core.display.Javascript object>"
            ]
          },
          "metadata": {},
          "output_type": "display_data"
        },
        {
          "data": {
            "text/markdown": [
              "<span style=\"color:#ccaa33\">Check:</span> When you've updated the starter code, `check()` will tell you whether your code is correct. You need to update the code that creates variable `star_ratings`"
            ],
            "text/plain": [
              "Check: When you've updated the starter code, `check()` will tell you whether your code is correct. You need to update the code that creates variable `star_ratings`"
            ]
          },
          "metadata": {},
          "output_type": "display_data"
        }
      ]
    },
    {
      "cell_type": "code",
      "metadata": {
        "execution": {
          "iopub.execute_input": "2021-08-21T09:08:41.991064Z",
          "iopub.status.busy": "2021-08-21T09:08:41.990543Z",
          "iopub.status.idle": "2021-08-21T09:08:41.992995Z",
          "shell.execute_reply": "2021-08-21T09:08:41.992580Z"
        },
        "papermill": {
          "duration": 0.02738,
          "end_time": "2021-08-21T09:08:41.993119",
          "exception": false,
          "start_time": "2021-08-21T09:08:41.965739",
          "status": "completed"
        },
        "tags": [],
        "id": "aaba927c"
      },
      "source": [
        "#q7.hint()\n",
        "#q7.solution()"
      ],
      "id": "aaba927c",
      "execution_count": null,
      "outputs": []
    },
    {
      "cell_type": "markdown",
      "metadata": {
        "papermill": {
          "duration": 0.021466,
          "end_time": "2021-08-21T09:08:42.036804",
          "exception": false,
          "start_time": "2021-08-21T09:08:42.015338",
          "status": "completed"
        },
        "tags": [],
        "id": "0e5d370a"
      },
      "source": [
        "# Keep going\n",
        "Continue to **[grouping and sorting](https://www.kaggle.com/residentmario/grouping-and-sorting)**."
      ],
      "id": "0e5d370a"
    },
    {
      "cell_type": "markdown",
      "metadata": {
        "papermill": {
          "duration": 0.021322,
          "end_time": "2021-08-21T09:08:42.080405",
          "exception": false,
          "start_time": "2021-08-21T09:08:42.059083",
          "status": "completed"
        },
        "tags": [],
        "id": "f3834b69"
      },
      "source": [
        "---\n",
        "\n",
        "\n",
        "\n",
        "\n",
        "*Have questions or comments? Visit the [Learn Discussion forum](https://www.kaggle.com/learn-forum/161299) to chat with other Learners.*"
      ],
      "id": "f3834b69"
    }
  ]
}