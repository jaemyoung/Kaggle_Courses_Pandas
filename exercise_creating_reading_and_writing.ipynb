{
  "nbformat": 4,
  "nbformat_minor": 5,
  "metadata": {
    "kernelspec": {
      "display_name": "Python 3",
      "language": "python",
      "name": "python3"
    },
    "language_info": {
      "codemirror_mode": {
        "name": "ipython",
        "version": 3
      },
      "file_extension": ".py",
      "mimetype": "text/x-python",
      "name": "python",
      "nbconvert_exporter": "python",
      "pygments_lexer": "ipython3",
      "version": "3.7.10"
    },
    "papermill": {
      "default_parameters": {},
      "duration": 13.847967,
      "end_time": "2021-08-20T04:39:53.488375",
      "environment_variables": {},
      "exception": null,
      "input_path": "__notebook__.ipynb",
      "output_path": "__notebook__.ipynb",
      "parameters": {},
      "start_time": "2021-08-20T04:39:39.640408",
      "version": "2.3.3"
    },
    "colab": {
      "name": "exercise-creating-reading-and-writing.ipynb",
      "provenance": [],
      "include_colab_link": true
    }
  },
  "cells": [
    {
      "cell_type": "markdown",
      "metadata": {
        "id": "view-in-github",
        "colab_type": "text"
      },
      "source": [
        "<a href=\"https://colab.research.google.com/github/jaemyoung/Kaggle_Courses_Pandas/blob/main/exercise_creating_reading_and_writing.ipynb\" target=\"_parent\"><img src=\"https://colab.research.google.com/assets/colab-badge.svg\" alt=\"Open In Colab\"/></a>"
      ]
    },
    {
      "cell_type": "markdown",
      "metadata": {
        "papermill": {
          "duration": 0.016784,
          "end_time": "2021-08-20T04:39:47.960146",
          "exception": false,
          "start_time": "2021-08-20T04:39:47.943362",
          "status": "completed"
        },
        "tags": [],
        "id": "a207317e"
      },
      "source": [
        "**This notebook is an exercise in the [Pandas](https://www.kaggle.com/learn/pandas) course.  You can reference the tutorial at [this link](https://www.kaggle.com/residentmario/creating-reading-and-writing).**\n",
        "\n",
        "---\n"
      ],
      "id": "a207317e"
    },
    {
      "cell_type": "markdown",
      "metadata": {
        "papermill": {
          "duration": 0.015121,
          "end_time": "2021-08-20T04:39:47.991297",
          "exception": false,
          "start_time": "2021-08-20T04:39:47.976176",
          "status": "completed"
        },
        "tags": [],
        "id": "720b82ff"
      },
      "source": [
        "# Introduction\n",
        "\n",
        "The first step in most data analytics projects is reading the data file. In this exercise, you'll create Series and DataFrame objects, both by hand and by reading data files.\n",
        "\n",
        "Run the code cell below to load libraries you will need (including code to check your answers)."
      ],
      "id": "720b82ff"
    },
    {
      "cell_type": "code",
      "metadata": {
        "execution": {
          "iopub.execute_input": "2021-08-20T04:39:48.027212Z",
          "iopub.status.busy": "2021-08-20T04:39:48.025988Z",
          "iopub.status.idle": "2021-08-20T04:39:49.869679Z",
          "shell.execute_reply": "2021-08-20T04:39:49.870200Z",
          "shell.execute_reply.started": "2021-08-20T04:25:02.958627Z"
        },
        "papermill": {
          "duration": 1.863537,
          "end_time": "2021-08-20T04:39:49.870501",
          "exception": false,
          "start_time": "2021-08-20T04:39:48.006964",
          "status": "completed"
        },
        "tags": [],
        "id": "231c5f65",
        "outputId": "c0a39d26-c5d9-4766-e9a8-a4482187cc37"
      },
      "source": [
        "import pandas as pd\n",
        "pd.set_option('max_rows', 5)\n",
        "from learntools.core import binder; binder.bind(globals())\n",
        "from learntools.pandas.creating_reading_and_writing import *\n",
        "print(\"Setup complete.\")"
      ],
      "id": "231c5f65",
      "execution_count": null,
      "outputs": [
        {
          "name": "stdout",
          "output_type": "stream",
          "text": [
            "Setup complete.\n"
          ]
        }
      ]
    },
    {
      "cell_type": "markdown",
      "metadata": {
        "papermill": {
          "duration": 0.015814,
          "end_time": "2021-08-20T04:39:49.902494",
          "exception": false,
          "start_time": "2021-08-20T04:39:49.886680",
          "status": "completed"
        },
        "tags": [],
        "id": "3ee8e2c2"
      },
      "source": [
        "# Exercises"
      ],
      "id": "3ee8e2c2"
    },
    {
      "cell_type": "markdown",
      "metadata": {
        "papermill": {
          "duration": 0.01534,
          "end_time": "2021-08-20T04:39:49.933815",
          "exception": false,
          "start_time": "2021-08-20T04:39:49.918475",
          "status": "completed"
        },
        "tags": [],
        "id": "de37688d"
      },
      "source": [
        "## 1.\n",
        "\n",
        "In the cell below, create a DataFrame `fruits` that looks like this:\n",
        "\n",
        "![](https://i.imgur.com/Ax3pp2A.png)"
      ],
      "id": "de37688d"
    },
    {
      "cell_type": "code",
      "metadata": {
        "execution": {
          "iopub.execute_input": "2021-08-20T04:39:49.975298Z",
          "iopub.status.busy": "2021-08-20T04:39:49.974593Z",
          "iopub.status.idle": "2021-08-20T04:39:49.992516Z",
          "shell.execute_reply": "2021-08-20T04:39:49.991884Z",
          "shell.execute_reply.started": "2021-08-20T04:26:46.457289Z"
        },
        "papermill": {
          "duration": 0.043005,
          "end_time": "2021-08-20T04:39:49.992650",
          "exception": false,
          "start_time": "2021-08-20T04:39:49.949645",
          "status": "completed"
        },
        "tags": [],
        "id": "cb128c36",
        "outputId": "03fc1f96-f73d-4dc6-ff35-80aa3618b515"
      },
      "source": [
        "# Your code goes here. Create a dataframe matching the above diagram and assign it to the variable fruits.\n",
        "fruits = pd.DataFrame({'Apples': [30],'Bananas' :[21]})\n",
        "\n",
        "# Check your answer\n",
        "q1.check()\n",
        "fruits"
      ],
      "id": "cb128c36",
      "execution_count": null,
      "outputs": [
        {
          "data": {
            "application/javascript": [
              "parent.postMessage({\"jupyterEvent\": \"custom.exercise_interaction\", \"data\": {\"outcomeType\": 1, \"valueTowardsCompletion\": 0.16666666666666666, \"interactionType\": 1, \"questionType\": 1, \"questionId\": \"1_FruitDfCreation\", \"learnToolsVersion\": \"0.3.4\", \"failureMessage\": \"\", \"exceptionClass\": \"\", \"trace\": \"\"}}, \"*\")"
            ],
            "text/plain": [
              "<IPython.core.display.Javascript object>"
            ]
          },
          "metadata": {},
          "output_type": "display_data"
        },
        {
          "data": {
            "text/markdown": [
              "<span style=\"color:#33cc33\">Correct</span>"
            ],
            "text/plain": [
              "Correct"
            ]
          },
          "metadata": {},
          "output_type": "display_data"
        },
        {
          "data": {
            "text/html": [
              "<div>\n",
              "<style scoped>\n",
              "    .dataframe tbody tr th:only-of-type {\n",
              "        vertical-align: middle;\n",
              "    }\n",
              "\n",
              "    .dataframe tbody tr th {\n",
              "        vertical-align: top;\n",
              "    }\n",
              "\n",
              "    .dataframe thead th {\n",
              "        text-align: right;\n",
              "    }\n",
              "</style>\n",
              "<table border=\"1\" class=\"dataframe\">\n",
              "  <thead>\n",
              "    <tr style=\"text-align: right;\">\n",
              "      <th></th>\n",
              "      <th>Apples</th>\n",
              "      <th>Bananas</th>\n",
              "    </tr>\n",
              "  </thead>\n",
              "  <tbody>\n",
              "    <tr>\n",
              "      <th>0</th>\n",
              "      <td>30</td>\n",
              "      <td>21</td>\n",
              "    </tr>\n",
              "  </tbody>\n",
              "</table>\n",
              "</div>"
            ],
            "text/plain": [
              "   Apples  Bananas\n",
              "0      30       21"
            ]
          },
          "execution_count": 2,
          "metadata": {},
          "output_type": "execute_result"
        }
      ]
    },
    {
      "cell_type": "code",
      "metadata": {
        "execution": {
          "iopub.execute_input": "2021-08-20T04:39:50.030430Z",
          "iopub.status.busy": "2021-08-20T04:39:50.029487Z",
          "iopub.status.idle": "2021-08-20T04:39:50.032939Z",
          "shell.execute_reply": "2021-08-20T04:39:50.033537Z"
        },
        "papermill": {
          "duration": 0.023883,
          "end_time": "2021-08-20T04:39:50.033707",
          "exception": false,
          "start_time": "2021-08-20T04:39:50.009824",
          "status": "completed"
        },
        "tags": [],
        "id": "af81f283"
      },
      "source": [
        "#q1.hint()\n",
        "#q1.solution()"
      ],
      "id": "af81f283",
      "execution_count": null,
      "outputs": []
    },
    {
      "cell_type": "markdown",
      "metadata": {
        "papermill": {
          "duration": 0.016985,
          "end_time": "2021-08-20T04:39:50.068237",
          "exception": false,
          "start_time": "2021-08-20T04:39:50.051252",
          "status": "completed"
        },
        "tags": [],
        "id": "31b53f71"
      },
      "source": [
        "## 2.\n",
        "\n",
        "Create a dataframe `fruit_sales` that matches the diagram below:\n",
        "\n",
        "![](https://i.imgur.com/CHPn7ZF.png)"
      ],
      "id": "31b53f71"
    },
    {
      "cell_type": "code",
      "metadata": {
        "execution": {
          "iopub.execute_input": "2021-08-20T04:39:50.106381Z",
          "iopub.status.busy": "2021-08-20T04:39:50.105432Z",
          "iopub.status.idle": "2021-08-20T04:39:50.120665Z",
          "shell.execute_reply": "2021-08-20T04:39:50.121174Z",
          "shell.execute_reply.started": "2021-08-20T04:29:59.438347Z"
        },
        "papermill": {
          "duration": 0.035982,
          "end_time": "2021-08-20T04:39:50.121340",
          "exception": false,
          "start_time": "2021-08-20T04:39:50.085358",
          "status": "completed"
        },
        "tags": [],
        "id": "b1b72bf0",
        "outputId": "71488cb2-999f-4f72-f4bb-5715715036f4"
      },
      "source": [
        "# Your code goes here. Create a dataframe matching the above diagram and assign it to the variable fruit_sales.\n",
        "#fruit_sales = pd.DataFrame({'Apples': [30,41],'Bananas' :[21,34] }, index = ['2017 Sales','2018 Sales'])-> 이 방법도 가능\n",
        "fruit_sales = pd.DataFrame([[35, 21], [41, 34]], columns=['Apples', 'Bananas'],\n",
        "                index=['2017 Sales', '2018 Sales'])\n",
        "\n",
        "# Check your answer\n",
        "q2.check()\n",
        "fruit_sales"
      ],
      "id": "b1b72bf0",
      "execution_count": null,
      "outputs": [
        {
          "data": {
            "application/javascript": [
              "parent.postMessage({\"jupyterEvent\": \"custom.exercise_interaction\", \"data\": {\"outcomeType\": 1, \"valueTowardsCompletion\": 0.16666666666666666, \"interactionType\": 1, \"questionType\": 1, \"questionId\": \"2_FruitSalesDfCreation\", \"learnToolsVersion\": \"0.3.4\", \"failureMessage\": \"\", \"exceptionClass\": \"\", \"trace\": \"\"}}, \"*\")"
            ],
            "text/plain": [
              "<IPython.core.display.Javascript object>"
            ]
          },
          "metadata": {},
          "output_type": "display_data"
        },
        {
          "data": {
            "text/markdown": [
              "<span style=\"color:#33cc33\">Correct</span>"
            ],
            "text/plain": [
              "Correct"
            ]
          },
          "metadata": {},
          "output_type": "display_data"
        },
        {
          "data": {
            "text/html": [
              "<div>\n",
              "<style scoped>\n",
              "    .dataframe tbody tr th:only-of-type {\n",
              "        vertical-align: middle;\n",
              "    }\n",
              "\n",
              "    .dataframe tbody tr th {\n",
              "        vertical-align: top;\n",
              "    }\n",
              "\n",
              "    .dataframe thead th {\n",
              "        text-align: right;\n",
              "    }\n",
              "</style>\n",
              "<table border=\"1\" class=\"dataframe\">\n",
              "  <thead>\n",
              "    <tr style=\"text-align: right;\">\n",
              "      <th></th>\n",
              "      <th>Apples</th>\n",
              "      <th>Bananas</th>\n",
              "    </tr>\n",
              "  </thead>\n",
              "  <tbody>\n",
              "    <tr>\n",
              "      <th>2017 Sales</th>\n",
              "      <td>35</td>\n",
              "      <td>21</td>\n",
              "    </tr>\n",
              "    <tr>\n",
              "      <th>2018 Sales</th>\n",
              "      <td>41</td>\n",
              "      <td>34</td>\n",
              "    </tr>\n",
              "  </tbody>\n",
              "</table>\n",
              "</div>"
            ],
            "text/plain": [
              "            Apples  Bananas\n",
              "2017 Sales      35       21\n",
              "2018 Sales      41       34"
            ]
          },
          "execution_count": 4,
          "metadata": {},
          "output_type": "execute_result"
        }
      ]
    },
    {
      "cell_type": "code",
      "metadata": {
        "execution": {
          "iopub.execute_input": "2021-08-20T04:39:50.162584Z",
          "iopub.status.busy": "2021-08-20T04:39:50.161661Z",
          "iopub.status.idle": "2021-08-20T04:39:50.169127Z",
          "shell.execute_reply": "2021-08-20T04:39:50.169711Z",
          "shell.execute_reply.started": "2021-08-20T04:28:55.370433Z"
        },
        "papermill": {
          "duration": 0.029458,
          "end_time": "2021-08-20T04:39:50.169871",
          "exception": false,
          "start_time": "2021-08-20T04:39:50.140413",
          "status": "completed"
        },
        "tags": [],
        "id": "3bb5165a",
        "outputId": "89f54ed1-4969-44d4-a5c0-3213e152cc5f"
      },
      "source": [
        "#q2.hint()\n",
        "q2.solution()"
      ],
      "id": "3bb5165a",
      "execution_count": null,
      "outputs": [
        {
          "data": {
            "application/javascript": [
              "parent.postMessage({\"jupyterEvent\": \"custom.exercise_interaction\", \"data\": {\"interactionType\": 3, \"questionType\": 1, \"questionId\": \"2_FruitSalesDfCreation\", \"learnToolsVersion\": \"0.3.4\", \"valueTowardsCompletion\": 0.0, \"failureMessage\": \"\", \"exceptionClass\": \"\", \"trace\": \"\", \"outcomeType\": 4}}, \"*\")"
            ],
            "text/plain": [
              "<IPython.core.display.Javascript object>"
            ]
          },
          "metadata": {},
          "output_type": "display_data"
        },
        {
          "data": {
            "text/markdown": [
              "<span style=\"color:#33cc99\">Solution:</span> \n",
              "```python\n",
              "fruit_sales = pd.DataFrame([[35, 21], [41, 34]], columns=['Apples', 'Bananas'],\n",
              "                index=['2017 Sales', '2018 Sales'])\n",
              "```"
            ],
            "text/plain": [
              "Solution: \n",
              "```python\n",
              "fruit_sales = pd.DataFrame([[35, 21], [41, 34]], columns=['Apples', 'Bananas'],\n",
              "                index=['2017 Sales', '2018 Sales'])\n",
              "```"
            ]
          },
          "metadata": {},
          "output_type": "display_data"
        }
      ]
    },
    {
      "cell_type": "markdown",
      "metadata": {
        "papermill": {
          "duration": 0.019456,
          "end_time": "2021-08-20T04:39:50.208758",
          "exception": false,
          "start_time": "2021-08-20T04:39:50.189302",
          "status": "completed"
        },
        "tags": [],
        "id": "6de94ccf"
      },
      "source": [
        "## 3.\n",
        "\n",
        "Create a variable `ingredients` with a Series that looks like:\n",
        "\n",
        "```\n",
        "Flour     4 cups\n",
        "Milk       1 cup\n",
        "Eggs     2 large\n",
        "Spam       1 can\n",
        "Name: Dinner, dtype: object\n",
        "```"
      ],
      "id": "6de94ccf"
    },
    {
      "cell_type": "code",
      "metadata": {
        "execution": {
          "iopub.execute_input": "2021-08-20T04:39:50.251408Z",
          "iopub.status.busy": "2021-08-20T04:39:50.250484Z",
          "iopub.status.idle": "2021-08-20T04:39:50.264741Z",
          "shell.execute_reply": "2021-08-20T04:39:50.264128Z",
          "shell.execute_reply.started": "2021-08-20T04:35:11.705470Z"
        },
        "papermill": {
          "duration": 0.036438,
          "end_time": "2021-08-20T04:39:50.264875",
          "exception": false,
          "start_time": "2021-08-20T04:39:50.228437",
          "status": "completed"
        },
        "tags": [],
        "id": "cbac6f44",
        "outputId": "910c5b5f-9d98-4fab-cd56-9be950359f76"
      },
      "source": [
        "quantities = ['4 cups', '1 cup', '2 large', '1 can']\n",
        "items = ['Flour', 'Milk', 'Eggs', 'Spam']\n",
        "ingredients = pd.Series(quantities, index=items, name='Dinner')\n",
        "# Check your answer\n",
        "q3.check()\n",
        "ingredients"
      ],
      "id": "cbac6f44",
      "execution_count": null,
      "outputs": [
        {
          "data": {
            "application/javascript": [
              "parent.postMessage({\"jupyterEvent\": \"custom.exercise_interaction\", \"data\": {\"outcomeType\": 1, \"valueTowardsCompletion\": 0.16666666666666666, \"interactionType\": 1, \"questionType\": 2, \"questionId\": \"3_RecipeSeriesCreation\", \"learnToolsVersion\": \"0.3.4\", \"failureMessage\": \"\", \"exceptionClass\": \"\", \"trace\": \"\"}}, \"*\")"
            ],
            "text/plain": [
              "<IPython.core.display.Javascript object>"
            ]
          },
          "metadata": {},
          "output_type": "display_data"
        },
        {
          "data": {
            "text/markdown": [
              "<span style=\"color:#33cc33\">Correct</span>"
            ],
            "text/plain": [
              "Correct"
            ]
          },
          "metadata": {},
          "output_type": "display_data"
        },
        {
          "data": {
            "text/plain": [
              "Flour     4 cups\n",
              "Milk       1 cup\n",
              "Eggs     2 large\n",
              "Spam       1 can\n",
              "Name: Dinner, dtype: object"
            ]
          },
          "execution_count": 6,
          "metadata": {},
          "output_type": "execute_result"
        }
      ]
    },
    {
      "cell_type": "code",
      "metadata": {
        "execution": {
          "iopub.execute_input": "2021-08-20T04:39:50.312834Z",
          "iopub.status.busy": "2021-08-20T04:39:50.311902Z",
          "iopub.status.idle": "2021-08-20T04:39:50.319181Z",
          "shell.execute_reply": "2021-08-20T04:39:50.318598Z",
          "shell.execute_reply.started": "2021-08-20T04:34:13.698344Z"
        },
        "papermill": {
          "duration": 0.033819,
          "end_time": "2021-08-20T04:39:50.319363",
          "exception": false,
          "start_time": "2021-08-20T04:39:50.285544",
          "status": "completed"
        },
        "tags": [],
        "id": "2596a865",
        "outputId": "9086c583-4a1e-4605-e1cf-988f346f1e62"
      },
      "source": [
        "#q3.hint()\n",
        "q3.solution()"
      ],
      "id": "2596a865",
      "execution_count": null,
      "outputs": [
        {
          "data": {
            "application/javascript": [
              "parent.postMessage({\"jupyterEvent\": \"custom.exercise_interaction\", \"data\": {\"interactionType\": 3, \"questionType\": 2, \"questionId\": \"3_RecipeSeriesCreation\", \"learnToolsVersion\": \"0.3.4\", \"valueTowardsCompletion\": 0.0, \"failureMessage\": \"\", \"exceptionClass\": \"\", \"trace\": \"\", \"outcomeType\": 4}}, \"*\")"
            ],
            "text/plain": [
              "<IPython.core.display.Javascript object>"
            ]
          },
          "metadata": {},
          "output_type": "display_data"
        },
        {
          "data": {
            "text/markdown": [
              "<span style=\"color:#33cc99\">Solution:</span> \n",
              "```python\n",
              "quantities = ['4 cups', '1 cup', '2 large', '1 can']\n",
              "items = ['Flour', 'Milk', 'Eggs', 'Spam']\n",
              "recipe = pd.Series(quantities, index=items, name='Dinner')\n",
              "```"
            ],
            "text/plain": [
              "Solution: \n",
              "```python\n",
              "quantities = ['4 cups', '1 cup', '2 large', '1 can']\n",
              "items = ['Flour', 'Milk', 'Eggs', 'Spam']\n",
              "recipe = pd.Series(quantities, index=items, name='Dinner')\n",
              "```"
            ]
          },
          "metadata": {},
          "output_type": "display_data"
        }
      ]
    },
    {
      "cell_type": "markdown",
      "metadata": {
        "papermill": {
          "duration": 0.022449,
          "end_time": "2021-08-20T04:39:50.364180",
          "exception": false,
          "start_time": "2021-08-20T04:39:50.341731",
          "status": "completed"
        },
        "tags": [],
        "id": "c9a0d7d7"
      },
      "source": [
        "## 4.\n",
        "\n",
        "Read the following csv dataset of wine reviews into a DataFrame called `reviews`:\n",
        "\n",
        "![](https://i.imgur.com/74RCZtU.png)\n",
        "\n",
        "The filepath to the csv file is `../input/wine-reviews/winemag-data_first150k.csv`. The first few lines look like:\n",
        "\n",
        "```\n",
        ",country,description,designation,points,price,province,region_1,region_2,variety,winery\n",
        "0,US,\"This tremendous 100% varietal wine[...]\",Martha's Vineyard,96,235.0,California,Napa Valley,Napa,Cabernet Sauvignon,Heitz\n",
        "1,Spain,\"Ripe aromas of fig, blackberry and[...]\",Carodorum Selección Especial Reserva,96,110.0,Northern Spain,Toro,,Tinta de Toro,Bodega Carmen Rodríguez\n",
        "```"
      ],
      "id": "c9a0d7d7"
    },
    {
      "cell_type": "code",
      "metadata": {
        "execution": {
          "iopub.execute_input": "2021-08-20T04:39:50.417585Z",
          "iopub.status.busy": "2021-08-20T04:39:50.416345Z",
          "iopub.status.idle": "2021-08-20T04:39:51.387766Z",
          "shell.execute_reply": "2021-08-20T04:39:51.386968Z",
          "shell.execute_reply.started": "2021-08-20T04:38:05.134245Z"
        },
        "papermill": {
          "duration": 1.00112,
          "end_time": "2021-08-20T04:39:51.387926",
          "exception": false,
          "start_time": "2021-08-20T04:39:50.386806",
          "status": "completed"
        },
        "tags": [],
        "id": "4ae05257",
        "outputId": "4b4fc125-404c-44d0-d850-3b0e489bc70d"
      },
      "source": [
        "reviews = pd.read_csv( \"../input/wine-reviews/winemag-data_first150k.csv\", index_col = 0)\n",
        "# Check your answer\n",
        "q4.check()\n",
        "reviews"
      ],
      "id": "4ae05257",
      "execution_count": null,
      "outputs": [
        {
          "data": {
            "application/javascript": [
              "parent.postMessage({\"jupyterEvent\": \"custom.exercise_interaction\", \"data\": {\"outcomeType\": 1, \"valueTowardsCompletion\": 0.16666666666666666, \"interactionType\": 1, \"questionType\": 1, \"questionId\": \"4_ReadWineCsv\", \"learnToolsVersion\": \"0.3.4\", \"failureMessage\": \"\", \"exceptionClass\": \"\", \"trace\": \"\"}}, \"*\")"
            ],
            "text/plain": [
              "<IPython.core.display.Javascript object>"
            ]
          },
          "metadata": {},
          "output_type": "display_data"
        },
        {
          "data": {
            "text/markdown": [
              "<span style=\"color:#33cc33\">Correct</span>"
            ],
            "text/plain": [
              "Correct"
            ]
          },
          "metadata": {},
          "output_type": "display_data"
        },
        {
          "data": {
            "text/html": [
              "<div>\n",
              "<style scoped>\n",
              "    .dataframe tbody tr th:only-of-type {\n",
              "        vertical-align: middle;\n",
              "    }\n",
              "\n",
              "    .dataframe tbody tr th {\n",
              "        vertical-align: top;\n",
              "    }\n",
              "\n",
              "    .dataframe thead th {\n",
              "        text-align: right;\n",
              "    }\n",
              "</style>\n",
              "<table border=\"1\" class=\"dataframe\">\n",
              "  <thead>\n",
              "    <tr style=\"text-align: right;\">\n",
              "      <th></th>\n",
              "      <th>country</th>\n",
              "      <th>description</th>\n",
              "      <th>designation</th>\n",
              "      <th>points</th>\n",
              "      <th>price</th>\n",
              "      <th>province</th>\n",
              "      <th>region_1</th>\n",
              "      <th>region_2</th>\n",
              "      <th>variety</th>\n",
              "      <th>winery</th>\n",
              "    </tr>\n",
              "  </thead>\n",
              "  <tbody>\n",
              "    <tr>\n",
              "      <th>0</th>\n",
              "      <td>US</td>\n",
              "      <td>This tremendous 100% varietal wine hails from ...</td>\n",
              "      <td>Martha's Vineyard</td>\n",
              "      <td>96</td>\n",
              "      <td>235.0</td>\n",
              "      <td>California</td>\n",
              "      <td>Napa Valley</td>\n",
              "      <td>Napa</td>\n",
              "      <td>Cabernet Sauvignon</td>\n",
              "      <td>Heitz</td>\n",
              "    </tr>\n",
              "    <tr>\n",
              "      <th>1</th>\n",
              "      <td>Spain</td>\n",
              "      <td>Ripe aromas of fig, blackberry and cassis are ...</td>\n",
              "      <td>Carodorum Selección Especial Reserva</td>\n",
              "      <td>96</td>\n",
              "      <td>110.0</td>\n",
              "      <td>Northern Spain</td>\n",
              "      <td>Toro</td>\n",
              "      <td>NaN</td>\n",
              "      <td>Tinta de Toro</td>\n",
              "      <td>Bodega Carmen Rodríguez</td>\n",
              "    </tr>\n",
              "    <tr>\n",
              "      <th>...</th>\n",
              "      <td>...</td>\n",
              "      <td>...</td>\n",
              "      <td>...</td>\n",
              "      <td>...</td>\n",
              "      <td>...</td>\n",
              "      <td>...</td>\n",
              "      <td>...</td>\n",
              "      <td>...</td>\n",
              "      <td>...</td>\n",
              "      <td>...</td>\n",
              "    </tr>\n",
              "    <tr>\n",
              "      <th>150928</th>\n",
              "      <td>France</td>\n",
              "      <td>A perfect salmon shade, with scents of peaches...</td>\n",
              "      <td>Grand Brut Rosé</td>\n",
              "      <td>90</td>\n",
              "      <td>52.0</td>\n",
              "      <td>Champagne</td>\n",
              "      <td>Champagne</td>\n",
              "      <td>NaN</td>\n",
              "      <td>Champagne Blend</td>\n",
              "      <td>Gosset</td>\n",
              "    </tr>\n",
              "    <tr>\n",
              "      <th>150929</th>\n",
              "      <td>Italy</td>\n",
              "      <td>More Pinot Grigios should taste like this. A r...</td>\n",
              "      <td>NaN</td>\n",
              "      <td>90</td>\n",
              "      <td>15.0</td>\n",
              "      <td>Northeastern Italy</td>\n",
              "      <td>Alto Adige</td>\n",
              "      <td>NaN</td>\n",
              "      <td>Pinot Grigio</td>\n",
              "      <td>Alois Lageder</td>\n",
              "    </tr>\n",
              "  </tbody>\n",
              "</table>\n",
              "<p>150930 rows × 10 columns</p>\n",
              "</div>"
            ],
            "text/plain": [
              "       country                                        description  \\\n",
              "0           US  This tremendous 100% varietal wine hails from ...   \n",
              "1        Spain  Ripe aromas of fig, blackberry and cassis are ...   \n",
              "...        ...                                                ...   \n",
              "150928  France  A perfect salmon shade, with scents of peaches...   \n",
              "150929   Italy  More Pinot Grigios should taste like this. A r...   \n",
              "\n",
              "                                 designation  points  price  \\\n",
              "0                          Martha's Vineyard      96  235.0   \n",
              "1       Carodorum Selección Especial Reserva      96  110.0   \n",
              "...                                      ...     ...    ...   \n",
              "150928                       Grand Brut Rosé      90   52.0   \n",
              "150929                                   NaN      90   15.0   \n",
              "\n",
              "                  province     region_1 region_2             variety  \\\n",
              "0               California  Napa Valley     Napa  Cabernet Sauvignon   \n",
              "1           Northern Spain         Toro      NaN       Tinta de Toro   \n",
              "...                    ...          ...      ...                 ...   \n",
              "150928           Champagne    Champagne      NaN     Champagne Blend   \n",
              "150929  Northeastern Italy   Alto Adige      NaN        Pinot Grigio   \n",
              "\n",
              "                         winery  \n",
              "0                         Heitz  \n",
              "1       Bodega Carmen Rodríguez  \n",
              "...                         ...  \n",
              "150928                   Gosset  \n",
              "150929            Alois Lageder  \n",
              "\n",
              "[150930 rows x 10 columns]"
            ]
          },
          "execution_count": 8,
          "metadata": {},
          "output_type": "execute_result"
        }
      ]
    },
    {
      "cell_type": "code",
      "metadata": {
        "execution": {
          "iopub.execute_input": "2021-08-20T04:39:51.440263Z",
          "iopub.status.busy": "2021-08-20T04:39:51.439598Z",
          "iopub.status.idle": "2021-08-20T04:39:51.443146Z",
          "shell.execute_reply": "2021-08-20T04:39:51.442510Z"
        },
        "papermill": {
          "duration": 0.031798,
          "end_time": "2021-08-20T04:39:51.443281",
          "exception": false,
          "start_time": "2021-08-20T04:39:51.411483",
          "status": "completed"
        },
        "tags": [],
        "id": "58de4c67"
      },
      "source": [
        "#q4.hint()\n",
        "#q4.solution()"
      ],
      "id": "58de4c67",
      "execution_count": null,
      "outputs": []
    },
    {
      "cell_type": "markdown",
      "metadata": {
        "papermill": {
          "duration": 0.024855,
          "end_time": "2021-08-20T04:39:51.491938",
          "exception": false,
          "start_time": "2021-08-20T04:39:51.467083",
          "status": "completed"
        },
        "tags": [],
        "id": "baa3ae0f"
      },
      "source": [
        "## 5.\n",
        "\n",
        "Run the cell below to create and display a DataFrame called `animals`:"
      ],
      "id": "baa3ae0f"
    },
    {
      "cell_type": "code",
      "metadata": {
        "execution": {
          "iopub.execute_input": "2021-08-20T04:39:51.551363Z",
          "iopub.status.busy": "2021-08-20T04:39:51.550670Z",
          "iopub.status.idle": "2021-08-20T04:39:51.554617Z",
          "shell.execute_reply": "2021-08-20T04:39:51.553976Z",
          "shell.execute_reply.started": "2021-08-20T04:38:32.475107Z"
        },
        "papermill": {
          "duration": 0.038805,
          "end_time": "2021-08-20T04:39:51.554769",
          "exception": false,
          "start_time": "2021-08-20T04:39:51.515964",
          "status": "completed"
        },
        "tags": [],
        "id": "1ac85ab7",
        "outputId": "9c4340e0-cb1a-4575-85d4-9abe1370242b"
      },
      "source": [
        "animals = pd.DataFrame({'Cows': [12, 20], 'Goats': [22, 19]}, index=['Year 1', 'Year 2'])\n",
        "animals"
      ],
      "id": "1ac85ab7",
      "execution_count": null,
      "outputs": [
        {
          "data": {
            "text/html": [
              "<div>\n",
              "<style scoped>\n",
              "    .dataframe tbody tr th:only-of-type {\n",
              "        vertical-align: middle;\n",
              "    }\n",
              "\n",
              "    .dataframe tbody tr th {\n",
              "        vertical-align: top;\n",
              "    }\n",
              "\n",
              "    .dataframe thead th {\n",
              "        text-align: right;\n",
              "    }\n",
              "</style>\n",
              "<table border=\"1\" class=\"dataframe\">\n",
              "  <thead>\n",
              "    <tr style=\"text-align: right;\">\n",
              "      <th></th>\n",
              "      <th>Cows</th>\n",
              "      <th>Goats</th>\n",
              "    </tr>\n",
              "  </thead>\n",
              "  <tbody>\n",
              "    <tr>\n",
              "      <th>Year 1</th>\n",
              "      <td>12</td>\n",
              "      <td>22</td>\n",
              "    </tr>\n",
              "    <tr>\n",
              "      <th>Year 2</th>\n",
              "      <td>20</td>\n",
              "      <td>19</td>\n",
              "    </tr>\n",
              "  </tbody>\n",
              "</table>\n",
              "</div>"
            ],
            "text/plain": [
              "        Cows  Goats\n",
              "Year 1    12     22\n",
              "Year 2    20     19"
            ]
          },
          "execution_count": 10,
          "metadata": {},
          "output_type": "execute_result"
        }
      ]
    },
    {
      "cell_type": "markdown",
      "metadata": {
        "papermill": {
          "duration": 0.025208,
          "end_time": "2021-08-20T04:39:51.605088",
          "exception": false,
          "start_time": "2021-08-20T04:39:51.579880",
          "status": "completed"
        },
        "tags": [],
        "id": "9d4ace51"
      },
      "source": [
        "In the cell below, write code to save this DataFrame to disk as a csv file with the name `cows_and_goats.csv`."
      ],
      "id": "9d4ace51"
    },
    {
      "cell_type": "code",
      "metadata": {
        "execution": {
          "iopub.execute_input": "2021-08-20T04:39:51.658989Z",
          "iopub.status.busy": "2021-08-20T04:39:51.658293Z",
          "iopub.status.idle": "2021-08-20T04:39:51.673068Z",
          "shell.execute_reply": "2021-08-20T04:39:51.673601Z",
          "shell.execute_reply.started": "2021-08-20T04:39:23.981857Z"
        },
        "papermill": {
          "duration": 0.044642,
          "end_time": "2021-08-20T04:39:51.673797",
          "exception": false,
          "start_time": "2021-08-20T04:39:51.629155",
          "status": "completed"
        },
        "tags": [],
        "id": "5b3c490e",
        "outputId": "1f5b908c-3c08-4a4d-8217-0e1feac59582"
      },
      "source": [
        "# Your code goes here\n",
        "animals.to_csv(\"cows_and_goats.csv\")\n",
        "# Check your answer\n",
        "q5.check()"
      ],
      "id": "5b3c490e",
      "execution_count": null,
      "outputs": [
        {
          "data": {
            "application/javascript": [
              "parent.postMessage({\"jupyterEvent\": \"custom.exercise_interaction\", \"data\": {\"outcomeType\": 1, \"valueTowardsCompletion\": 0.16666666666666666, \"interactionType\": 1, \"questionType\": 2, \"questionId\": \"5_SaveAnimalsCsv\", \"learnToolsVersion\": \"0.3.4\", \"failureMessage\": \"\", \"exceptionClass\": \"\", \"trace\": \"\"}}, \"*\")"
            ],
            "text/plain": [
              "<IPython.core.display.Javascript object>"
            ]
          },
          "metadata": {},
          "output_type": "display_data"
        },
        {
          "data": {
            "text/markdown": [
              "<span style=\"color:#33cc33\">Correct</span>"
            ],
            "text/plain": [
              "Correct"
            ]
          },
          "metadata": {},
          "output_type": "display_data"
        }
      ]
    },
    {
      "cell_type": "code",
      "metadata": {
        "execution": {
          "iopub.execute_input": "2021-08-20T04:39:51.728856Z",
          "iopub.status.busy": "2021-08-20T04:39:51.727863Z",
          "iopub.status.idle": "2021-08-20T04:39:51.735857Z",
          "shell.execute_reply": "2021-08-20T04:39:51.736511Z",
          "shell.execute_reply.started": "2021-08-20T04:38:54.770180Z"
        },
        "papermill": {
          "duration": 0.037364,
          "end_time": "2021-08-20T04:39:51.736708",
          "exception": false,
          "start_time": "2021-08-20T04:39:51.699344",
          "status": "completed"
        },
        "tags": [],
        "id": "e6487f14",
        "outputId": "750e194d-f251-4d33-ec7e-7b1becff69b3"
      },
      "source": [
        "#q5.hint()\n",
        "q5.solution()"
      ],
      "id": "e6487f14",
      "execution_count": null,
      "outputs": [
        {
          "data": {
            "application/javascript": [
              "parent.postMessage({\"jupyterEvent\": \"custom.exercise_interaction\", \"data\": {\"interactionType\": 3, \"questionType\": 2, \"questionId\": \"5_SaveAnimalsCsv\", \"learnToolsVersion\": \"0.3.4\", \"valueTowardsCompletion\": 0.0, \"failureMessage\": \"\", \"exceptionClass\": \"\", \"trace\": \"\", \"outcomeType\": 4}}, \"*\")"
            ],
            "text/plain": [
              "<IPython.core.display.Javascript object>"
            ]
          },
          "metadata": {},
          "output_type": "display_data"
        },
        {
          "data": {
            "text/markdown": [
              "<span style=\"color:#33cc99\">Solution:</span> \n",
              "```python\n",
              "animals.to_csv(\"cows_and_goats.csv\")\n",
              "```"
            ],
            "text/plain": [
              "Solution: \n",
              "```python\n",
              "animals.to_csv(\"cows_and_goats.csv\")\n",
              "```"
            ]
          },
          "metadata": {},
          "output_type": "display_data"
        }
      ]
    },
    {
      "cell_type": "markdown",
      "metadata": {
        "papermill": {
          "duration": 0.026314,
          "end_time": "2021-08-20T04:39:51.789548",
          "exception": false,
          "start_time": "2021-08-20T04:39:51.763234",
          "status": "completed"
        },
        "tags": [],
        "id": "97658134"
      },
      "source": [
        "# Keep going\n",
        "\n",
        "Move on to learn about **[indexing, selecting and assigning](https://www.kaggle.com/residentmario/indexing-selecting-assigning)**."
      ],
      "id": "97658134"
    },
    {
      "cell_type": "markdown",
      "metadata": {
        "papermill": {
          "duration": 0.026858,
          "end_time": "2021-08-20T04:39:51.843348",
          "exception": false,
          "start_time": "2021-08-20T04:39:51.816490",
          "status": "completed"
        },
        "tags": [],
        "id": "63d78daf"
      },
      "source": [
        "---\n",
        "\n",
        "\n",
        "\n",
        "\n",
        "*Have questions or comments? Visit the [Learn Discussion forum](https://www.kaggle.com/learn-forum/161299) to chat with other Learners.*"
      ],
      "id": "63d78daf"
    }
  ]
}